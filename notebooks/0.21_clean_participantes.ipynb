{
 "cells": [
  {
   "cell_type": "code",
   "execution_count": 1,
   "metadata": {
    "ExecuteTime": {
     "end_time": "2017-09-25T19:32:48.427830Z",
     "start_time": "2017-09-25T19:32:47.623222Z"
    }
   },
   "outputs": [],
   "source": [
    "import re\n",
    "import feather\n",
    "import itertools\n",
    "import numpy as np\n",
    "import pandas as pd\n",
    "import glob\n",
    "import unicodedata\n",
    "import matplotlib.colors\n",
    "import matplotlib.pyplot as plt\n",
    "import matplotlib as mpl\n",
    "from pathlib import Path\n",
    "# from datetime import date\n",
    "# from currency_converter import CurrencyConverter\n",
    "\n",
    "# dask\n",
    "import dask\n",
    "import dask.dataframe as dd\n",
    "from dask.distributed import Client\n",
    "from dask.delayed import delayed\n",
    "\n",
    "\n",
    "find_numbers = lambda string: re.findall('[-+]?\\d+[\\.]?\\d*', string)\n",
    "\n",
    "def get_claveuc_nombre(nombre_uc: str):\n",
    "    if isinstance(nombre_uc, str):\n",
    "        nombre_uc =  nombre_uc.split('#')\n",
    "    else:\n",
    "        return None\n",
    "    if len(nombre_uc) > 1 and isinstance(nombre_uc, list):\n",
    "        return nombre_uc[1]\n",
    "    return None\n",
    "\n",
    "\n",
    "pd.set_option('display.max_rows', 100)\n",
    "pd.set_option('display.max_columns', 100)\n",
    "\n",
    "%matplotlib inline\n",
    "%config IPCompleter.use_jedi = False"
   ]
  },
  {
   "cell_type": "code",
   "execution_count": 2,
   "metadata": {
    "ExecuteTime": {
     "end_time": "2017-09-25T19:32:52.189775Z",
     "start_time": "2017-09-25T19:32:52.062341Z"
    }
   },
   "outputs": [],
   "source": [
    "def remove_pattern(string, pattern):\n",
    "    if isinstance(string, str):\n",
    "        return pattern.sub('', string)\n",
    "    return string\n",
    "\n",
    "\n",
    "def clean_file(path: str):\n",
    "    df = pd.read_csv(path, encoding='iso-8859-1', dtype={'Expediente': str})\n",
    "    \n",
    "    # Add the period according to the file name\n",
    "    periodo = path.split('.csv')[0]\n",
    "    periodo = '-'.join(find_numbers(periodo))\n",
    "    df = df.assign(periodo=periodo)\n",
    "    \n",
    "    # Normalize column names\n",
    "    df = df.rename(\n",
    "        columns={\n",
    "            'Dependencia/Entidad': 'DEPENDENCIA', 'Nº de Procedimiento': 'NUMERO_PROCEDIMIENTO',\n",
    "            'Unidad Compradora': 'NOMBRE_DE_LA_UC', 'Forma del procedimiento': 'FORMA_PROCEDIMIENTO',\n",
    "            'Nombre de Licitante': 'PROVEEDOR_CONTRATISTA', 'Expediente': 'CODIGO_EXPEDIENTE'\n",
    "        }\n",
    "    )\n",
    "    new_columns = {\n",
    "        col: unicodedata.normalize('NFD', col).encode('ascii', 'ignore').decode('utf-8')\n",
    "        for col in df.columns\n",
    "    }\n",
    "    new_columns = {\n",
    "        k: '_'.join(v.split(' ')).upper()\n",
    "        for k, v in new_columns.items()\n",
    "    }\n",
    "    df = df.rename(columns=new_columns)\n",
    "    \n",
    "    # Normalize string column values\n",
    "    cols = {k for k, v in df.dtypes.to_dict().items() if str(v) == 'object'}\n",
    "    for col in cols:\n",
    "        df.loc[:, col] = df[col].str.normalize('NFD').str.encode('ascii', 'ignore').str.decode('utf-8').str.upper()\n",
    "        df.loc[:, col] = df[col].str.replace('.', '')\n",
    "        df.loc[:, col] = df[col].str.replace(',', '')\n",
    "        df.loc[:, col] = df[col].str.strip()\n",
    "       \n",
    "    # Extract clave from UC's names\n",
    "    CLAVEUC = df.NOMBRE_DE_LA_UC.map(get_claveuc_nombre)\n",
    "    df = df.assign(CLAVEUC=CLAVEUC)\n",
    "    \n",
    "    # Save as category to reduce memory usage\n",
    "    cols = (\n",
    "        'TIPO_PROCEDIMIENTO', 'TIPO_CONTRATACION', 'FORMA_PROCEDIMIENTO', 'PERIODO',\n",
    "        'ESTATUS_PARTIDA', 'ESTATUS_FALLO', 'ESTATUS_DE_PROPUESTA', 'DEPENDENCIA',\n",
    "        'CLAVEUC', 'PERIODO'\n",
    "    )\n",
    "    for col in cols:\n",
    "        df.loc[:, col] = df[col].astype('category')\n",
    "        \n",
    "    # Remove common endings\n",
    "    regex_list = [\n",
    "        '[S]\\s?[A]\\s+[D]\\s?[E]\\s+[C]\\s?[V]', # SA DE CV\n",
    "        '[S]\\s?[A]\\s?[P]\\s?[I]\\s+[D]\\s?[E]\\s+[C]\\s?[V]', # SAPI DE CV\n",
    "        '[S]\\s?[A]\\s?[B]\\s+[D]\\s?[E]\\s+[C]\\s?[V]',  # SAB DE CV\n",
    "        '[S]\\s?[D]\\s?[E]\\s+[R]\\s?[L]\\s+[D]\\s?[E]\\s+[C]\\s?[V]', # S DE RL DE CV\n",
    "        '[S]\\s?[C]\\s+[D]\\s?[E]\\s+[R]\\s?[L]\\s+[D]\\s?[E]\\s+[C]\\s?[V]', # SC DE RL DE CV\n",
    "        '[S]\\s?[C]\\s?[P]\\s+[D]\\s?[E]\\s+[R]\\s?[L]\\s+[D]\\s?[E]\\s+[C]\\s?[V]', # SCP DE RL DE CV\n",
    "        '[S]\\s?[P]\\s?[R]\\s+[D]\\s?[E]\\s+[R]\\s?[L]\\s+[D]\\s?[E]\\s+[C]\\s?[V]', # SPR DE RL DE CV\n",
    "        '[P]\\s?[R]\\s+[D]\\s?[E]\\s+[R]\\s?[L]\\s+[D]\\s?[E]\\s+[C]\\s?[V]', # PR DE RL DE CV\n",
    "        '[S]\\s?[C]\\s+[D]\\s?[E]\\s+[C]\\s+[D]\\s?[E]\\s+[R]\\s?[L]\\s+[D]\\s?[E]\\s+[C]\\s?[V]', # SC DE C DE RL DE CV\n",
    "    ]\n",
    "    for regex in regex_list:\n",
    "        pattern = re.compile(regex)\n",
    "        df = df.assign(\n",
    "            PROVEEDOR_CONTRATISTA=df.PROVEEDOR_CONTRATISTA.map(lambda string: remove_pattern(string, pattern))\n",
    "        )\n",
    "    df = df.assign(PROVEEDOR_CONTRATISTA=df.PROVEEDOR_CONTRATISTA.str.strip())\n",
    "    return df\n",
    "\n",
    "\n",
    "\n",
    "def write_file(df, file_name: str, sep='|', file_format='.psv'):\n",
    "    df.to_csv(file_name + file_format, index=False, quoting=1, encoding='utf-8', sep=sep)\n",
    "    "
   ]
  },
  {
   "cell_type": "markdown",
   "metadata": {},
   "source": [
    "## Dask"
   ]
  },
  {
   "cell_type": "code",
   "execution_count": 3,
   "metadata": {
    "ExecuteTime": {
     "end_time": "2017-09-25T19:32:58.710870Z",
     "start_time": "2017-09-25T19:32:55.937312Z"
    },
    "scrolled": true
   },
   "outputs": [
    {
     "data": {
      "text/html": [
       "<table style=\"border: 2px solid white;\">\n",
       "<tr>\n",
       "<td style=\"vertical-align: top; border: 0px solid white\">\n",
       "<h3>Client</h3>\n",
       "<ul>\n",
       "  <li><b>Scheduler: </b>tcp://127.0.0.1:38931\n",
       "  <li><b>Dashboard: </b><a href='http://127.0.0.1:8787' target='_blank'>http://127.0.0.1:8787</a>\n",
       "</ul>\n",
       "</td>\n",
       "<td style=\"vertical-align: top; border: 0px solid white\">\n",
       "<h3>Cluster</h3>\n",
       "<ul>\n",
       "  <li><b>Workers: </b>8</li>\n",
       "  <li><b>Cores: </b>8</li>\n",
       "  <li><b>Memory: </b>10.02 GB</li>\n",
       "</ul>\n",
       "</td>\n",
       "</tr>\n",
       "</table>"
      ],
      "text/plain": [
       "<Client: scheduler='tcp://127.0.0.1:38931' processes=8 cores=8>"
      ]
     },
     "execution_count": 3,
     "metadata": {},
     "output_type": "execute_result"
    }
   ],
   "source": [
    "client = Client()\n",
    "client"
   ]
  },
  {
   "cell_type": "code",
   "execution_count": 4,
   "metadata": {
    "ExecuteTime": {
     "end_time": "2017-09-25T19:33:01.404653Z",
     "start_time": "2017-09-25T19:33:01.394797Z"
    }
   },
   "outputs": [],
   "source": [
    "participantes_raw = Path('../data/raw/participantes/').resolve()\n",
    "participantes_processed = Path('../data/processed/participantes/').resolve()\n",
    "files_raw = []\n",
    "files_processed = []\n",
    "\n",
    "for file in participantes_raw.glob('participantes_*'):\n",
    "    files_raw.append(file.as_posix())\n",
    "    files_processed.append((participantes_processed / file.name.split('.csv')[0]).as_posix())"
   ]
  },
  {
   "cell_type": "code",
   "execution_count": 5,
   "metadata": {
    "ExecuteTime": {
     "end_time": "2017-09-25T19:36:44.145787Z",
     "start_time": "2017-09-25T19:33:03.676347Z"
    }
   },
   "outputs": [
    {
     "data": {
      "text/plain": [
       "(None, None, None, None)"
      ]
     },
     "execution_count": 5,
     "metadata": {},
     "output_type": "execute_result"
    }
   ],
   "source": [
    "dfs = [delayed(clean_file, pure=True)(file) for file in files_raw]\n",
    "writes = [delayed(write_file)(df, fn) for df, fn in zip(dfs, files_processed)]\n",
    "dask.compute(*writes)"
   ]
  },
  {
   "cell_type": "markdown",
   "metadata": {},
   "source": [
    "## Limpiar la clave de una unidad compradora"
   ]
  },
  {
   "cell_type": "code",
   "execution_count": 6,
   "metadata": {
    "ExecuteTime": {
     "end_time": "2017-09-25T19:36:53.037363Z",
     "start_time": "2017-09-25T19:36:44.146982Z"
    }
   },
   "outputs": [],
   "source": [
    "\n",
    "df_participantes_2012_2013 = pd.read_csv(\n",
    "    '../data/processed/participantes/participantes_2012_2013.psv', sep='|',\n",
    "    dtype={\n",
    "        'TIPO_PROCEDIMIENTO': 'category', 'TIPO_CONTRATACION': 'category', 'FORMA_PROCEDIMIENTO': 'category',\n",
    "        'ESTATUS_DE_PROPUESTA': 'category', 'ESTATUS_PARTIDA': 'category', 'ESTATUS_FALLO': 'category',\n",
    "        'PERIODO': 'category', 'DESCRIPCION_CUCOP': str, 'PROVEEDOR_CONTRATISTA': str, 'UNIDAD_DE_MEDIDA': str,\n",
    "        'EXPEDIENTE': str\n",
    "    }\n",
    ")"
   ]
  },
  {
   "cell_type": "code",
   "execution_count": 7,
   "metadata": {
    "ExecuteTime": {
     "end_time": "2017-09-25T19:36:53.448029Z",
     "start_time": "2017-09-25T19:36:53.038741Z"
    }
   },
   "outputs": [
    {
     "data": {
      "text/plain": [
       "array([ 'IMSS-OBRA DE LA UMAE HOSPITAL DE CARDIOLOGIA #34 EN MONTERREY NUEVO LEON #019GYR995'], dtype=object)"
      ]
     },
     "execution_count": 7,
     "metadata": {},
     "output_type": "execute_result"
    }
   ],
   "source": [
    "df_participantes_2012_2013.loc[df_participantes_2012_2013.CLAVEUC.str.len() == 27].NOMBRE_DE_LA_UC.values"
   ]
  },
  {
   "cell_type": "code",
   "execution_count": 8,
   "metadata": {
    "ExecuteTime": {
     "end_time": "2017-09-25T19:36:53.898040Z",
     "start_time": "2017-09-25T19:36:53.449463Z"
    }
   },
   "outputs": [],
   "source": [
    "df_participantes_2012_2013.loc[df_participantes_2012_2013.CLAVEUC.str.len() == 27, 'CLAVEUC'] = '019GYR995'"
   ]
  },
  {
   "cell_type": "code",
   "execution_count": 9,
   "metadata": {
    "ExecuteTime": {
     "end_time": "2017-09-25T19:36:54.312030Z",
     "start_time": "2017-09-25T19:36:53.899411Z"
    }
   },
   "outputs": [
    {
     "data": {
      "text/plain": [
       "9.0    1817415\n",
       "Name: CLAVEUC, dtype: int64"
      ]
     },
     "execution_count": 9,
     "metadata": {},
     "output_type": "execute_result"
    }
   ],
   "source": [
    "df_participantes_2012_2013.CLAVEUC.str.len().value_counts()"
   ]
  },
  {
   "cell_type": "code",
   "execution_count": 10,
   "metadata": {
    "ExecuteTime": {
     "end_time": "2017-09-25T19:37:22.616162Z",
     "start_time": "2017-09-25T19:36:54.313467Z"
    }
   },
   "outputs": [],
   "source": [
    "df_participantes_2012_2013.to_csv(\n",
    "    '../data/processed/participantes/participantes_2012_2013.psv', index=False, quoting=1, encoding='utf-8', sep='|'\n",
    ")"
   ]
  },
  {
   "cell_type": "code",
   "execution_count": 14,
   "metadata": {
    "ExecuteTime": {
     "end_time": "2017-09-25T18:16:24.553427Z",
     "start_time": "2017-09-25T18:16:23.797389Z"
    }
   },
   "outputs": [
    {
     "data": {
      "text/plain": [
       "False    1678482\n",
       "Name: PROVEEDOR_CONTRATISTA, dtype: int64"
      ]
     },
     "execution_count": 14,
     "metadata": {},
     "output_type": "execute_result"
    }
   ],
   "source": [
    "df_participantes_2012_2013.PROVEEDOR_CONTRATISTA.str.endswith(' ').value_counts()"
   ]
  },
  {
   "cell_type": "code",
   "execution_count": 4,
   "metadata": {
    "ExecuteTime": {
     "end_time": "2017-09-13T18:16:59.497659Z",
     "start_time": "2017-09-13T18:11:29.347636Z"
    }
   },
   "outputs": [
    {
     "data": {
      "text/html": [
       "<div>\n",
       "<style>\n",
       "    .dataframe thead tr:only-child th {\n",
       "        text-align: right;\n",
       "    }\n",
       "\n",
       "    .dataframe thead th {\n",
       "        text-align: left;\n",
       "    }\n",
       "\n",
       "    .dataframe tbody tr th {\n",
       "        vertical-align: top;\n",
       "    }\n",
       "</style>\n",
       "<table border=\"1\" class=\"dataframe\">\n",
       "  <thead>\n",
       "    <tr style=\"text-align: right;\">\n",
       "      <th></th>\n",
       "      <th>NUMERO_PROCEDIMIENTO</th>\n",
       "      <th>DEPENDENCIA</th>\n",
       "      <th>NOMBRE_DE_LA_UC</th>\n",
       "      <th>TIPO_PROCEDIMIENTO</th>\n",
       "      <th>CARACTER</th>\n",
       "      <th>TIPO_CONTRATACION</th>\n",
       "      <th>FORMA_PROCEDIMIENTO</th>\n",
       "      <th>NOMBRE_DE_LICITANTE</th>\n",
       "      <th>ESTATUS_DE_PROPUESTA</th>\n",
       "      <th>CLAVE_CUCOP</th>\n",
       "      <th>DESCRIPCION_CUCOP</th>\n",
       "      <th>CANTIDAD</th>\n",
       "      <th>UNIDAD_DE_MEDIDA</th>\n",
       "      <th>PRECIO_UNITARIO</th>\n",
       "      <th>ESTATUS_PARTIDA</th>\n",
       "      <th>PRECIO_TOTAL</th>\n",
       "      <th>ESTATUS_FALLO</th>\n",
       "      <th>EXPEDIENTE</th>\n",
       "      <th>PROJECT_TYPE</th>\n",
       "      <th>PROJECT_SHORT_DESCRIPTION</th>\n",
       "      <th>PERIODO</th>\n",
       "      <th>CLAVEUC</th>\n",
       "    </tr>\n",
       "  </thead>\n",
       "  <tbody>\n",
       "    <tr>\n",
       "      <th>0</th>\n",
       "      <td>AA-019GYR071-E350-2015</td>\n",
       "      <td>INSTITUTO MEXICANO DEL SEGURO SOCIAL</td>\n",
       "      <td>IMSS-HOSPITAL DE TRAUMATOLOGIA Y ORTOPEDIA LOM...</td>\n",
       "      <td>ADJUDICACION DIRECTA</td>\n",
       "      <td>NACIONAL</td>\n",
       "      <td>ADQUISICIONES</td>\n",
       "      <td>PRESENCIAL</td>\n",
       "      <td>LUCRECIA MONTOYA ROJAS</td>\n",
       "      <td>PERDEDOR</td>\n",
       "      <td>25400519.0</td>\n",
       "      <td>TUBO ENDOTRAQUEAL SIN GLOBO DE ELASTOMERO DE S...</td>\n",
       "      <td>48.0</td>\n",
       "      <td>PIEZA</td>\n",
       "      <td>35.00</td>\n",
       "      <td>NO ADJUDICADO</td>\n",
       "      <td>1680.00</td>\n",
       "      <td>GANADOR</td>\n",
       "      <td>1015530.0</td>\n",
       "      <td>05. ADJUDICACION DIRECTA LAASSP</td>\n",
       "      <td>TUBOS ENDOTRAQUEALES, SIN GLOBO.</td>\n",
       "      <td>2016-2017</td>\n",
       "      <td>019GYR071</td>\n",
       "    </tr>\n",
       "    <tr>\n",
       "      <th>1</th>\n",
       "      <td>AA-019GYR071-E350-2015</td>\n",
       "      <td>INSTITUTO MEXICANO DEL SEGURO SOCIAL</td>\n",
       "      <td>IMSS-HOSPITAL DE TRAUMATOLOGIA Y ORTOPEDIA LOM...</td>\n",
       "      <td>ADJUDICACION DIRECTA</td>\n",
       "      <td>NACIONAL</td>\n",
       "      <td>ADQUISICIONES</td>\n",
       "      <td>PRESENCIAL</td>\n",
       "      <td>FARMADESCUENTO</td>\n",
       "      <td>GANADOR</td>\n",
       "      <td>25400519.0</td>\n",
       "      <td>TUBO ENDOTRAQUEAL SIN GLOBO DE ELASTOMERO DE S...</td>\n",
       "      <td>48.0</td>\n",
       "      <td>PIEZA</td>\n",
       "      <td>20.00</td>\n",
       "      <td>NO ADJUDICADO</td>\n",
       "      <td>960.00</td>\n",
       "      <td>GANADOR</td>\n",
       "      <td>1015530.0</td>\n",
       "      <td>05. ADJUDICACION DIRECTA LAASSP</td>\n",
       "      <td>TUBOS ENDOTRAQUEALES, SIN GLOBO.</td>\n",
       "      <td>2016-2017</td>\n",
       "      <td>019GYR071</td>\n",
       "    </tr>\n",
       "    <tr>\n",
       "      <th>2</th>\n",
       "      <td>AA-019GYR071-E350-2015</td>\n",
       "      <td>INSTITUTO MEXICANO DEL SEGURO SOCIAL</td>\n",
       "      <td>IMSS-HOSPITAL DE TRAUMATOLOGIA Y ORTOPEDIA LOM...</td>\n",
       "      <td>ADJUDICACION DIRECTA</td>\n",
       "      <td>NACIONAL</td>\n",
       "      <td>ADQUISICIONES</td>\n",
       "      <td>PRESENCIAL</td>\n",
       "      <td>FARMADESCUENTO</td>\n",
       "      <td>GANADOR</td>\n",
       "      <td>25400519.0</td>\n",
       "      <td>TUBO ENDOTRAQUEAL SIN GLOBO DE ELASTOMERO DE S...</td>\n",
       "      <td>72.0</td>\n",
       "      <td>PIEZA</td>\n",
       "      <td>18.00</td>\n",
       "      <td>NO ADJUDICADO</td>\n",
       "      <td>1296.00</td>\n",
       "      <td>GANADOR</td>\n",
       "      <td>1015530.0</td>\n",
       "      <td>05. ADJUDICACION DIRECTA LAASSP</td>\n",
       "      <td>TUBOS ENDOTRAQUEALES, SIN GLOBO.</td>\n",
       "      <td>2016-2017</td>\n",
       "      <td>019GYR071</td>\n",
       "    </tr>\n",
       "    <tr>\n",
       "      <th>3</th>\n",
       "      <td>AA-019GYR071-E350-2015</td>\n",
       "      <td>INSTITUTO MEXICANO DEL SEGURO SOCIAL</td>\n",
       "      <td>IMSS-HOSPITAL DE TRAUMATOLOGIA Y ORTOPEDIA LOM...</td>\n",
       "      <td>ADJUDICACION DIRECTA</td>\n",
       "      <td>NACIONAL</td>\n",
       "      <td>ADQUISICIONES</td>\n",
       "      <td>PRESENCIAL</td>\n",
       "      <td>TECNOLOGIA MEDICA DIART, S.A. DE .C.V.</td>\n",
       "      <td>PERDEDOR</td>\n",
       "      <td>25400519.0</td>\n",
       "      <td>TUBO ENDOTRAQUEAL SIN GLOBO DE ELASTOMERO DE S...</td>\n",
       "      <td>48.0</td>\n",
       "      <td>PIEZA</td>\n",
       "      <td>37.13</td>\n",
       "      <td>NO ADJUDICADO</td>\n",
       "      <td>1782.24</td>\n",
       "      <td>GANADOR</td>\n",
       "      <td>1015530.0</td>\n",
       "      <td>05. ADJUDICACION DIRECTA LAASSP</td>\n",
       "      <td>TUBOS ENDOTRAQUEALES, SIN GLOBO.</td>\n",
       "      <td>2016-2017</td>\n",
       "      <td>019GYR071</td>\n",
       "    </tr>\n",
       "    <tr>\n",
       "      <th>4</th>\n",
       "      <td>AA-019GYR071-E350-2015</td>\n",
       "      <td>INSTITUTO MEXICANO DEL SEGURO SOCIAL</td>\n",
       "      <td>IMSS-HOSPITAL DE TRAUMATOLOGIA Y ORTOPEDIA LOM...</td>\n",
       "      <td>ADJUDICACION DIRECTA</td>\n",
       "      <td>NACIONAL</td>\n",
       "      <td>ADQUISICIONES</td>\n",
       "      <td>PRESENCIAL</td>\n",
       "      <td>TECNOLOGIA MEDICA DIART, S.A. DE .C.V.</td>\n",
       "      <td>PERDEDOR</td>\n",
       "      <td>25400519.0</td>\n",
       "      <td>TUBO ENDOTRAQUEAL SIN GLOBO DE ELASTOMERO DE S...</td>\n",
       "      <td>72.0</td>\n",
       "      <td>PIEZA</td>\n",
       "      <td>37.13</td>\n",
       "      <td>NO ADJUDICADO</td>\n",
       "      <td>2673.36</td>\n",
       "      <td>GANADOR</td>\n",
       "      <td>1015530.0</td>\n",
       "      <td>05. ADJUDICACION DIRECTA LAASSP</td>\n",
       "      <td>TUBOS ENDOTRAQUEALES, SIN GLOBO.</td>\n",
       "      <td>2016-2017</td>\n",
       "      <td>019GYR071</td>\n",
       "    </tr>\n",
       "  </tbody>\n",
       "</table>\n",
       "</div>"
      ],
      "text/plain": [
       "     NUMERO_PROCEDIMIENTO                           DEPENDENCIA  \\\n",
       "0  AA-019GYR071-E350-2015  INSTITUTO MEXICANO DEL SEGURO SOCIAL   \n",
       "1  AA-019GYR071-E350-2015  INSTITUTO MEXICANO DEL SEGURO SOCIAL   \n",
       "2  AA-019GYR071-E350-2015  INSTITUTO MEXICANO DEL SEGURO SOCIAL   \n",
       "3  AA-019GYR071-E350-2015  INSTITUTO MEXICANO DEL SEGURO SOCIAL   \n",
       "4  AA-019GYR071-E350-2015  INSTITUTO MEXICANO DEL SEGURO SOCIAL   \n",
       "\n",
       "                                     NOMBRE_DE_LA_UC    TIPO_PROCEDIMIENTO  \\\n",
       "0  IMSS-HOSPITAL DE TRAUMATOLOGIA Y ORTOPEDIA LOM...  ADJUDICACION DIRECTA   \n",
       "1  IMSS-HOSPITAL DE TRAUMATOLOGIA Y ORTOPEDIA LOM...  ADJUDICACION DIRECTA   \n",
       "2  IMSS-HOSPITAL DE TRAUMATOLOGIA Y ORTOPEDIA LOM...  ADJUDICACION DIRECTA   \n",
       "3  IMSS-HOSPITAL DE TRAUMATOLOGIA Y ORTOPEDIA LOM...  ADJUDICACION DIRECTA   \n",
       "4  IMSS-HOSPITAL DE TRAUMATOLOGIA Y ORTOPEDIA LOM...  ADJUDICACION DIRECTA   \n",
       "\n",
       "   CARACTER TIPO_CONTRATACION FORMA_PROCEDIMIENTO  \\\n",
       "0  NACIONAL     ADQUISICIONES          PRESENCIAL   \n",
       "1  NACIONAL     ADQUISICIONES          PRESENCIAL   \n",
       "2  NACIONAL     ADQUISICIONES          PRESENCIAL   \n",
       "3  NACIONAL     ADQUISICIONES          PRESENCIAL   \n",
       "4  NACIONAL     ADQUISICIONES          PRESENCIAL   \n",
       "\n",
       "                      NOMBRE_DE_LICITANTE ESTATUS_DE_PROPUESTA  CLAVE_CUCOP  \\\n",
       "0                  LUCRECIA MONTOYA ROJAS             PERDEDOR   25400519.0   \n",
       "1                          FARMADESCUENTO              GANADOR   25400519.0   \n",
       "2                          FARMADESCUENTO              GANADOR   25400519.0   \n",
       "3  TECNOLOGIA MEDICA DIART, S.A. DE .C.V.             PERDEDOR   25400519.0   \n",
       "4  TECNOLOGIA MEDICA DIART, S.A. DE .C.V.             PERDEDOR   25400519.0   \n",
       "\n",
       "                                   DESCRIPCION_CUCOP  CANTIDAD  \\\n",
       "0  TUBO ENDOTRAQUEAL SIN GLOBO DE ELASTOMERO DE S...      48.0   \n",
       "1  TUBO ENDOTRAQUEAL SIN GLOBO DE ELASTOMERO DE S...      48.0   \n",
       "2  TUBO ENDOTRAQUEAL SIN GLOBO DE ELASTOMERO DE S...      72.0   \n",
       "3  TUBO ENDOTRAQUEAL SIN GLOBO DE ELASTOMERO DE S...      48.0   \n",
       "4  TUBO ENDOTRAQUEAL SIN GLOBO DE ELASTOMERO DE S...      72.0   \n",
       "\n",
       "  UNIDAD_DE_MEDIDA  PRECIO_UNITARIO ESTATUS_PARTIDA  PRECIO_TOTAL  \\\n",
       "0            PIEZA            35.00   NO ADJUDICADO       1680.00   \n",
       "1            PIEZA            20.00   NO ADJUDICADO        960.00   \n",
       "2            PIEZA            18.00   NO ADJUDICADO       1296.00   \n",
       "3            PIEZA            37.13   NO ADJUDICADO       1782.24   \n",
       "4            PIEZA            37.13   NO ADJUDICADO       2673.36   \n",
       "\n",
       "  ESTATUS_FALLO  EXPEDIENTE                     PROJECT_TYPE  \\\n",
       "0       GANADOR   1015530.0  05. ADJUDICACION DIRECTA LAASSP   \n",
       "1       GANADOR   1015530.0  05. ADJUDICACION DIRECTA LAASSP   \n",
       "2       GANADOR   1015530.0  05. ADJUDICACION DIRECTA LAASSP   \n",
       "3       GANADOR   1015530.0  05. ADJUDICACION DIRECTA LAASSP   \n",
       "4       GANADOR   1015530.0  05. ADJUDICACION DIRECTA LAASSP   \n",
       "\n",
       "          PROJECT_SHORT_DESCRIPTION    PERIODO    CLAVEUC  \n",
       "0  TUBOS ENDOTRAQUEALES, SIN GLOBO.  2016-2017  019GYR071  \n",
       "1  TUBOS ENDOTRAQUEALES, SIN GLOBO.  2016-2017  019GYR071  \n",
       "2  TUBOS ENDOTRAQUEALES, SIN GLOBO.  2016-2017  019GYR071  \n",
       "3  TUBOS ENDOTRAQUEALES, SIN GLOBO.  2016-2017  019GYR071  \n",
       "4  TUBOS ENDOTRAQUEALES, SIN GLOBO.  2016-2017  019GYR071  "
      ]
     },
     "execution_count": 4,
     "metadata": {},
     "output_type": "execute_result"
    }
   ],
   "source": [
    "\n",
    "# df_participantes = dd.from_delayed(dfs)\n",
    "\n",
    "# CLAVEUC = df_participantes.NOMBRE_DE_LA_UC.map(get_claveuc_nombre)\n",
    "# df_participantes = df_participantes.assign(CLAVEUC=CLAVEUC)\n",
    "# df_participantes.head()"
   ]
  },
  {
   "cell_type": "code",
   "execution_count": null,
   "metadata": {
    "ExecuteTime": {
     "end_time": "2017-09-18T16:12:03.739224Z",
     "start_time": "2017-09-18T16:10:31.958370Z"
    }
   },
   "outputs": [],
   "source": []
  },
  {
   "cell_type": "code",
   "execution_count": 2,
   "metadata": {
    "ExecuteTime": {
     "end_time": "2017-09-25T18:26:36.497212Z",
     "start_time": "2017-09-25T18:26:36.047001Z"
    }
   },
   "outputs": [
    {
     "name": "stdout",
     "output_type": "stream",
     "text": [
      "Index(['Nº de Procedimiento', 'Dependencia/Entidad', 'Unidad Compradora',\n",
      "       'Tipo procedimiento', 'Carácter', 'Tipo contratación',\n",
      "       'Forma del procedimiento', 'Nombre de Licitante',\n",
      "       'Estatus de Propuesta', 'Clave CUCOP', 'Descripción CUCOP', 'Cantidad',\n",
      "       'Unidad de medida', 'Precio Unitario', 'Estatus Partida',\n",
      "       'Precio Total', 'Estatus Fallo', 'Expediente', 'PROJECT_TYPE',\n",
      "       'PROJECT_SHORT_DESCRIPTION'],\n",
      "      dtype='object')\n"
     ]
    }
   ],
   "source": [
    "df_test = pd.read_csv(\n",
    "    '../data/raw/participantes/participantes_2010-2011.csv', encoding='iso-8859-1', dtype={'Expediente': str})\n",
    "print(df_test.columns)"
   ]
  },
  {
   "cell_type": "code",
   "execution_count": 5,
   "metadata": {
    "ExecuteTime": {
     "end_time": "2017-09-25T19:27:36.930661Z",
     "start_time": "2017-09-25T19:27:36.927935Z"
    }
   },
   "outputs": [],
   "source": [
    "# set(df_test.Expediente.unique())"
   ]
  },
  {
   "cell_type": "code",
   "execution_count": null,
   "metadata": {},
   "outputs": [],
   "source": []
  },
  {
   "cell_type": "code",
   "execution_count": 22,
   "metadata": {
    "ExecuteTime": {
     "end_time": "2017-09-18T16:28:51.018157Z",
     "start_time": "2017-09-18T16:28:51.005020Z"
    }
   },
   "outputs": [],
   "source": [
    "# df_salida = df_test.loc[\n",
    "#     :, ['ESTATUS_DE_PROPUESTA', 'ESTATUS_FALLO', 'ESTATUS_PARTIDA', 'NUMERO_PROCEDIMIENTO']\n",
    "# ].groupby(['ESTATUS_DE_PROPUESTA', 'ESTATUS_FALLO', 'ESTATUS_PARTIDA']).NUMERO_PROCEDIMIENTO.count()\n",
    "# df_salida = df_salida.reset_index()\n",
    "# df_salida.sort_values('NUMERO_PROCEDIMIENTO').to_csv(\n",
    "#     '../data/processed/estatus_2016_2017.csv', index=False, quoting=1, encoding='utf-8'\n",
    "# )\n",
    "# df_salida.sort_values('NUMERO_PROCEDIMIENTO', ascending=False)"
   ]
  },
  {
   "cell_type": "code",
   "execution_count": 25,
   "metadata": {
    "ExecuteTime": {
     "end_time": "2017-09-18T16:30:44.420941Z",
     "start_time": "2017-09-18T16:30:44.394407Z"
    }
   },
   "outputs": [
    {
     "data": {
      "text/plain": [
       "9.0    1639491\n",
       "Name: CLAVEUC, dtype: int64"
      ]
     },
     "execution_count": 25,
     "metadata": {},
     "output_type": "execute_result"
    }
   ],
   "source": [
    "df_test.CLAVEUC.str.len().value_counts()"
   ]
  },
  {
   "cell_type": "code",
   "execution_count": 23,
   "metadata": {
    "ExecuteTime": {
     "end_time": "2017-09-18T16:30:06.726054Z",
     "start_time": "2017-09-18T16:30:06.705694Z"
    }
   },
   "outputs": [
    {
     "data": {
      "text/plain": [
       "False    1639535\n",
       "True           3\n",
       "Name: EXPEDIENTE, dtype: int64"
      ]
     },
     "execution_count": 23,
     "metadata": {},
     "output_type": "execute_result"
    }
   ],
   "source": [
    "df_test.EXPEDIENTE.isnull().value_counts()"
   ]
  },
  {
   "cell_type": "code",
   "execution_count": null,
   "metadata": {
    "collapsed": true
   },
   "outputs": [],
   "source": [
    "df_test.loc[(df_test.ESTATUS_DE_PROPUESTA == 'PERDEDOR') & (df_test.)]\n"
   ]
  },
  {
   "cell_type": "code",
   "execution_count": 7,
   "metadata": {
    "ExecuteTime": {
     "end_time": "2017-09-18T16:09:32.964787Z",
     "start_time": "2017-09-18T16:09:32.957450Z"
    }
   },
   "outputs": [
    {
     "data": {
      "text/plain": [
       "([GANADOR, NO GANADOR]\n",
       " Categories (2, object): [GANADOR, NO GANADOR],\n",
       " [NaN, NO ADJUDICADO, ADJUDICADO]\n",
       " Categories (2, object): [NO ADJUDICADO, ADJUDICADO])"
      ]
     },
     "execution_count": 7,
     "metadata": {},
     "output_type": "execute_result"
    }
   ],
   "source": [
    "df_test.ESTATUS_FALLO.unique(), df_test.ESTATUS_PARTIDA.unique(), "
   ]
  },
  {
   "cell_type": "code",
   "execution_count": 13,
   "metadata": {
    "ExecuteTime": {
     "end_time": "2017-09-18T15:11:06.627292Z",
     "start_time": "2017-09-18T15:11:06.464989Z"
    }
   },
   "outputs": [
    {
     "data": {
      "text/plain": [
       "count    1.974906e+06\n",
       "mean     2.447348e+10\n",
       "std      2.366611e+13\n",
       "min      1.000000e-03\n",
       "25%      1.827000e+03\n",
       "50%      9.990000e+03\n",
       "75%      6.753083e+04\n",
       "max      3.108131e+16\n",
       "Name: PRECIO_TOTAL, dtype: float64"
      ]
     },
     "execution_count": 13,
     "metadata": {},
     "output_type": "execute_result"
    }
   ],
   "source": [
    "df_test.PRECIO_TOTAL.describe()"
   ]
  },
  {
   "cell_type": "code",
   "execution_count": 15,
   "metadata": {
    "ExecuteTime": {
     "end_time": "2017-09-18T15:12:45.135431Z",
     "start_time": "2017-09-18T15:12:45.094585Z"
    }
   },
   "outputs": [
    {
     "data": {
      "text/plain": [
       "PERDEDOR    931368\n",
       "NaN         602141\n",
       "GANADOR     569337\n",
       "Name: ESTATUS_DE_PROPUESTA, dtype: int64"
      ]
     },
     "execution_count": 15,
     "metadata": {},
     "output_type": "execute_result"
    }
   ],
   "source": [
    "df_test.ESTATUS_DE_PROPUESTA.value_counts(dropna=False)"
   ]
  },
  {
   "cell_type": "code",
   "execution_count": 14,
   "metadata": {
    "ExecuteTime": {
     "end_time": "2017-09-18T15:12:03.486389Z",
     "start_time": "2017-09-18T15:12:03.409929Z"
    }
   },
   "outputs": [
    {
     "data": {
      "text/html": [
       "<div>\n",
       "<style>\n",
       "    .dataframe thead tr:only-child th {\n",
       "        text-align: right;\n",
       "    }\n",
       "\n",
       "    .dataframe thead th {\n",
       "        text-align: left;\n",
       "    }\n",
       "\n",
       "    .dataframe tbody tr th {\n",
       "        vertical-align: top;\n",
       "    }\n",
       "</style>\n",
       "<table border=\"1\" class=\"dataframe\">\n",
       "  <thead>\n",
       "    <tr style=\"text-align: right;\">\n",
       "      <th></th>\n",
       "      <th>NUMERO_PROCEDIMIENTO</th>\n",
       "      <th>DEPENDENCIA</th>\n",
       "      <th>NOMBRE_DE_LA_UC</th>\n",
       "      <th>TIPO_PROCEDIMIENTO</th>\n",
       "      <th>CARACTER</th>\n",
       "      <th>TIPO_CONTRATACION</th>\n",
       "      <th>FORMA_PROCEDIMIENTO</th>\n",
       "      <th>NOMBRE_DE_LICITANTE</th>\n",
       "      <th>ESTATUS_DE_PROPUESTA</th>\n",
       "      <th>CLAVE_CUCOP</th>\n",
       "      <th>DESCRIPCION_CUCOP</th>\n",
       "      <th>CANTIDAD</th>\n",
       "      <th>UNIDAD_DE_MEDIDA</th>\n",
       "      <th>PRECIO_UNITARIO</th>\n",
       "      <th>ESTATUS_PARTIDA</th>\n",
       "      <th>PRECIO_TOTAL</th>\n",
       "      <th>ESTATUS_FALLO</th>\n",
       "      <th>EXPEDIENTE</th>\n",
       "      <th>PROJECT_TYPE</th>\n",
       "      <th>PROJECT_SHORT_DESCRIPTION</th>\n",
       "      <th>PERIODO</th>\n",
       "      <th>CLAVEUC</th>\n",
       "    </tr>\n",
       "  </thead>\n",
       "  <tbody>\n",
       "    <tr>\n",
       "      <th>1400840</th>\n",
       "      <td>LA-006HKI002-N19-2014</td>\n",
       "      <td>SOCIEDAD HIPOTECARIA FEDERAL, S.N.C.</td>\n",
       "      <td>SHF-SUBDIRECCION DE RECURSOS MATERIALES #006HK...</td>\n",
       "      <td>LICITACION PUBLICA</td>\n",
       "      <td>NACIONAL</td>\n",
       "      <td>SERVICIOS</td>\n",
       "      <td>MIXTA</td>\n",
       "      <td>EFECTIVALE S DE RL DE CV</td>\n",
       "      <td>PERDEDOR</td>\n",
       "      <td>33602006.0</td>\n",
       "      <td>VALES DE ALIMENTACION</td>\n",
       "      <td>1.750000e+09</td>\n",
       "      <td>VALE</td>\n",
       "      <td>17760750.0</td>\n",
       "      <td>NO ADJUDICADO</td>\n",
       "      <td>3.108131e+16</td>\n",
       "      <td>GANADOR</td>\n",
       "      <td>549312</td>\n",
       "      <td>Z15122015 01. LICITACION PUBLICA NACIONAL LAASSP</td>\n",
       "      <td>ADQUISICION DE VALES DE COMIDA EN RESTAURANTES</td>\n",
       "      <td>2014-2015</td>\n",
       "      <td>006HKI002</td>\n",
       "    </tr>\n",
       "  </tbody>\n",
       "</table>\n",
       "</div>"
      ],
      "text/plain": [
       "          NUMERO_PROCEDIMIENTO                           DEPENDENCIA  \\\n",
       "1400840  LA-006HKI002-N19-2014  SOCIEDAD HIPOTECARIA FEDERAL, S.N.C.   \n",
       "\n",
       "                                           NOMBRE_DE_LA_UC  \\\n",
       "1400840  SHF-SUBDIRECCION DE RECURSOS MATERIALES #006HK...   \n",
       "\n",
       "         TIPO_PROCEDIMIENTO  CARACTER TIPO_CONTRATACION FORMA_PROCEDIMIENTO  \\\n",
       "1400840  LICITACION PUBLICA  NACIONAL         SERVICIOS               MIXTA   \n",
       "\n",
       "              NOMBRE_DE_LICITANTE ESTATUS_DE_PROPUESTA  CLAVE_CUCOP  \\\n",
       "1400840  EFECTIVALE S DE RL DE CV             PERDEDOR   33602006.0   \n",
       "\n",
       "             DESCRIPCION_CUCOP      CANTIDAD UNIDAD_DE_MEDIDA  \\\n",
       "1400840  VALES DE ALIMENTACION  1.750000e+09             VALE   \n",
       "\n",
       "         PRECIO_UNITARIO ESTATUS_PARTIDA  PRECIO_TOTAL ESTATUS_FALLO  \\\n",
       "1400840       17760750.0   NO ADJUDICADO  3.108131e+16       GANADOR   \n",
       "\n",
       "         EXPEDIENTE                                      PROJECT_TYPE  \\\n",
       "1400840      549312  Z15122015 01. LICITACION PUBLICA NACIONAL LAASSP   \n",
       "\n",
       "                              PROJECT_SHORT_DESCRIPTION    PERIODO    CLAVEUC  \n",
       "1400840  ADQUISICION DE VALES DE COMIDA EN RESTAURANTES  2014-2015  006HKI002  "
      ]
     },
     "execution_count": 14,
     "metadata": {},
     "output_type": "execute_result"
    }
   ],
   "source": [
    "df_test.loc[df_test.PRECIO_TOTAL == df_test.PRECIO_TOTAL.max()]"
   ]
  },
  {
   "cell_type": "code",
   "execution_count": 4,
   "metadata": {
    "ExecuteTime": {
     "end_time": "2017-09-18T15:58:49.509352Z",
     "start_time": "2017-09-18T15:58:49.476984Z"
    }
   },
   "outputs": [
    {
     "data": {
      "text/plain": [
       "GANADOR       1767966\n",
       "NO GANADOR     334880\n",
       "Name: ESTATUS_FALLO, dtype: int64"
      ]
     },
     "execution_count": 4,
     "metadata": {},
     "output_type": "execute_result"
    }
   ],
   "source": [
    "df_test.ESTATUS_FALLO.value_counts(dropna=False)"
   ]
  },
  {
   "cell_type": "code",
   "execution_count": null,
   "metadata": {
    "collapsed": true
   },
   "outputs": [],
   "source": []
  },
  {
   "cell_type": "code",
   "execution_count": null,
   "metadata": {
    "collapsed": true
   },
   "outputs": [],
   "source": []
  },
  {
   "cell_type": "code",
   "execution_count": 5,
   "metadata": {
    "ExecuteTime": {
     "end_time": "2017-09-13T18:00:31.306380Z",
     "start_time": "2017-09-13T17:58:58.058449Z"
    },
    "collapsed": true
   },
   "outputs": [],
   "source": [
    "# df_participantes.to_csv(\n",
    "#     '../data/processed/participantes_all_2017_09_13.psv', encoding='utf-8', quoting=1, sep='|', index=False)"
   ]
  },
  {
   "cell_type": "code",
   "execution_count": 2,
   "metadata": {
    "ExecuteTime": {
     "end_time": "2017-09-13T19:46:31.745751Z",
     "start_time": "2017-09-13T19:45:27.225800Z"
    }
   },
   "outputs": [
    {
     "data": {
      "text/html": [
       "<div>\n",
       "<style>\n",
       "    .dataframe thead tr:only-child th {\n",
       "        text-align: right;\n",
       "    }\n",
       "\n",
       "    .dataframe thead th {\n",
       "        text-align: left;\n",
       "    }\n",
       "\n",
       "    .dataframe tbody tr th {\n",
       "        vertical-align: top;\n",
       "    }\n",
       "</style>\n",
       "<table border=\"1\" class=\"dataframe\">\n",
       "  <thead>\n",
       "    <tr style=\"text-align: right;\">\n",
       "      <th></th>\n",
       "      <th>NUMERO_PROCEDIMIENTO</th>\n",
       "      <th>DEPENDENCIA</th>\n",
       "      <th>NOMBRE_DE_LA_UC</th>\n",
       "      <th>TIPO_PROCEDIMIENTO</th>\n",
       "      <th>CARACTER</th>\n",
       "      <th>TIPO_CONTRATACION</th>\n",
       "      <th>FORMA_PROCEDIMIENTO</th>\n",
       "      <th>NOMBRE_DE_LICITANTE</th>\n",
       "      <th>ESTATUS_DE_PROPUESTA</th>\n",
       "      <th>CLAVE_CUCOP</th>\n",
       "      <th>DESCRIPCION_CUCOP</th>\n",
       "      <th>CANTIDAD</th>\n",
       "      <th>UNIDAD_DE_MEDIDA</th>\n",
       "      <th>PRECIO_UNITARIO</th>\n",
       "      <th>ESTATUS_PARTIDA</th>\n",
       "      <th>PRECIO_TOTAL</th>\n",
       "      <th>ESTATUS_FALLO</th>\n",
       "      <th>EXPEDIENTE</th>\n",
       "      <th>PROJECT_TYPE</th>\n",
       "      <th>PROJECT_SHORT_DESCRIPTION</th>\n",
       "      <th>PERIODO</th>\n",
       "      <th>CLAVEUC</th>\n",
       "    </tr>\n",
       "  </thead>\n",
       "  <tbody>\n",
       "    <tr>\n",
       "      <th>0</th>\n",
       "      <td>AA-019GYR071-E350-2015</td>\n",
       "      <td>INSTITUTO MEXICANO DEL SEGURO SOCIAL</td>\n",
       "      <td>IMSS-HOSPITAL DE TRAUMATOLOGIA Y ORTOPEDIA LOM...</td>\n",
       "      <td>ADJUDICACION DIRECTA</td>\n",
       "      <td>NACIONAL</td>\n",
       "      <td>ADQUISICIONES</td>\n",
       "      <td>PRESENCIAL</td>\n",
       "      <td>LUCRECIA MONTOYA ROJAS</td>\n",
       "      <td>PERDEDOR</td>\n",
       "      <td>25400519.0</td>\n",
       "      <td>TUBO ENDOTRAQUEAL SIN GLOBO DE ELASTOMERO DE S...</td>\n",
       "      <td>48.0</td>\n",
       "      <td>PIEZA</td>\n",
       "      <td>35.00</td>\n",
       "      <td>NO ADJUDICADO</td>\n",
       "      <td>1680.00</td>\n",
       "      <td>GANADOR</td>\n",
       "      <td>1015530.0</td>\n",
       "      <td>05. ADJUDICACION DIRECTA LAASSP</td>\n",
       "      <td>TUBOS ENDOTRAQUEALES, SIN GLOBO.</td>\n",
       "      <td>2016-2017</td>\n",
       "      <td>019GYR071</td>\n",
       "    </tr>\n",
       "    <tr>\n",
       "      <th>1</th>\n",
       "      <td>AA-019GYR071-E350-2015</td>\n",
       "      <td>INSTITUTO MEXICANO DEL SEGURO SOCIAL</td>\n",
       "      <td>IMSS-HOSPITAL DE TRAUMATOLOGIA Y ORTOPEDIA LOM...</td>\n",
       "      <td>ADJUDICACION DIRECTA</td>\n",
       "      <td>NACIONAL</td>\n",
       "      <td>ADQUISICIONES</td>\n",
       "      <td>PRESENCIAL</td>\n",
       "      <td>FARMADESCUENTO</td>\n",
       "      <td>GANADOR</td>\n",
       "      <td>25400519.0</td>\n",
       "      <td>TUBO ENDOTRAQUEAL SIN GLOBO DE ELASTOMERO DE S...</td>\n",
       "      <td>48.0</td>\n",
       "      <td>PIEZA</td>\n",
       "      <td>20.00</td>\n",
       "      <td>NO ADJUDICADO</td>\n",
       "      <td>960.00</td>\n",
       "      <td>GANADOR</td>\n",
       "      <td>1015530.0</td>\n",
       "      <td>05. ADJUDICACION DIRECTA LAASSP</td>\n",
       "      <td>TUBOS ENDOTRAQUEALES, SIN GLOBO.</td>\n",
       "      <td>2016-2017</td>\n",
       "      <td>019GYR071</td>\n",
       "    </tr>\n",
       "    <tr>\n",
       "      <th>2</th>\n",
       "      <td>AA-019GYR071-E350-2015</td>\n",
       "      <td>INSTITUTO MEXICANO DEL SEGURO SOCIAL</td>\n",
       "      <td>IMSS-HOSPITAL DE TRAUMATOLOGIA Y ORTOPEDIA LOM...</td>\n",
       "      <td>ADJUDICACION DIRECTA</td>\n",
       "      <td>NACIONAL</td>\n",
       "      <td>ADQUISICIONES</td>\n",
       "      <td>PRESENCIAL</td>\n",
       "      <td>FARMADESCUENTO</td>\n",
       "      <td>GANADOR</td>\n",
       "      <td>25400519.0</td>\n",
       "      <td>TUBO ENDOTRAQUEAL SIN GLOBO DE ELASTOMERO DE S...</td>\n",
       "      <td>72.0</td>\n",
       "      <td>PIEZA</td>\n",
       "      <td>18.00</td>\n",
       "      <td>NO ADJUDICADO</td>\n",
       "      <td>1296.00</td>\n",
       "      <td>GANADOR</td>\n",
       "      <td>1015530.0</td>\n",
       "      <td>05. ADJUDICACION DIRECTA LAASSP</td>\n",
       "      <td>TUBOS ENDOTRAQUEALES, SIN GLOBO.</td>\n",
       "      <td>2016-2017</td>\n",
       "      <td>019GYR071</td>\n",
       "    </tr>\n",
       "    <tr>\n",
       "      <th>3</th>\n",
       "      <td>AA-019GYR071-E350-2015</td>\n",
       "      <td>INSTITUTO MEXICANO DEL SEGURO SOCIAL</td>\n",
       "      <td>IMSS-HOSPITAL DE TRAUMATOLOGIA Y ORTOPEDIA LOM...</td>\n",
       "      <td>ADJUDICACION DIRECTA</td>\n",
       "      <td>NACIONAL</td>\n",
       "      <td>ADQUISICIONES</td>\n",
       "      <td>PRESENCIAL</td>\n",
       "      <td>TECNOLOGIA MEDICA DIART, S.A. DE .C.V.</td>\n",
       "      <td>PERDEDOR</td>\n",
       "      <td>25400519.0</td>\n",
       "      <td>TUBO ENDOTRAQUEAL SIN GLOBO DE ELASTOMERO DE S...</td>\n",
       "      <td>48.0</td>\n",
       "      <td>PIEZA</td>\n",
       "      <td>37.13</td>\n",
       "      <td>NO ADJUDICADO</td>\n",
       "      <td>1782.24</td>\n",
       "      <td>GANADOR</td>\n",
       "      <td>1015530.0</td>\n",
       "      <td>05. ADJUDICACION DIRECTA LAASSP</td>\n",
       "      <td>TUBOS ENDOTRAQUEALES, SIN GLOBO.</td>\n",
       "      <td>2016-2017</td>\n",
       "      <td>019GYR071</td>\n",
       "    </tr>\n",
       "    <tr>\n",
       "      <th>4</th>\n",
       "      <td>AA-019GYR071-E350-2015</td>\n",
       "      <td>INSTITUTO MEXICANO DEL SEGURO SOCIAL</td>\n",
       "      <td>IMSS-HOSPITAL DE TRAUMATOLOGIA Y ORTOPEDIA LOM...</td>\n",
       "      <td>ADJUDICACION DIRECTA</td>\n",
       "      <td>NACIONAL</td>\n",
       "      <td>ADQUISICIONES</td>\n",
       "      <td>PRESENCIAL</td>\n",
       "      <td>TECNOLOGIA MEDICA DIART, S.A. DE .C.V.</td>\n",
       "      <td>PERDEDOR</td>\n",
       "      <td>25400519.0</td>\n",
       "      <td>TUBO ENDOTRAQUEAL SIN GLOBO DE ELASTOMERO DE S...</td>\n",
       "      <td>72.0</td>\n",
       "      <td>PIEZA</td>\n",
       "      <td>37.13</td>\n",
       "      <td>NO ADJUDICADO</td>\n",
       "      <td>2673.36</td>\n",
       "      <td>GANADOR</td>\n",
       "      <td>1015530.0</td>\n",
       "      <td>05. ADJUDICACION DIRECTA LAASSP</td>\n",
       "      <td>TUBOS ENDOTRAQUEALES, SIN GLOBO.</td>\n",
       "      <td>2016-2017</td>\n",
       "      <td>019GYR071</td>\n",
       "    </tr>\n",
       "  </tbody>\n",
       "</table>\n",
       "</div>"
      ],
      "text/plain": [
       "     NUMERO_PROCEDIMIENTO                           DEPENDENCIA  \\\n",
       "0  AA-019GYR071-E350-2015  INSTITUTO MEXICANO DEL SEGURO SOCIAL   \n",
       "1  AA-019GYR071-E350-2015  INSTITUTO MEXICANO DEL SEGURO SOCIAL   \n",
       "2  AA-019GYR071-E350-2015  INSTITUTO MEXICANO DEL SEGURO SOCIAL   \n",
       "3  AA-019GYR071-E350-2015  INSTITUTO MEXICANO DEL SEGURO SOCIAL   \n",
       "4  AA-019GYR071-E350-2015  INSTITUTO MEXICANO DEL SEGURO SOCIAL   \n",
       "\n",
       "                                     NOMBRE_DE_LA_UC    TIPO_PROCEDIMIENTO  \\\n",
       "0  IMSS-HOSPITAL DE TRAUMATOLOGIA Y ORTOPEDIA LOM...  ADJUDICACION DIRECTA   \n",
       "1  IMSS-HOSPITAL DE TRAUMATOLOGIA Y ORTOPEDIA LOM...  ADJUDICACION DIRECTA   \n",
       "2  IMSS-HOSPITAL DE TRAUMATOLOGIA Y ORTOPEDIA LOM...  ADJUDICACION DIRECTA   \n",
       "3  IMSS-HOSPITAL DE TRAUMATOLOGIA Y ORTOPEDIA LOM...  ADJUDICACION DIRECTA   \n",
       "4  IMSS-HOSPITAL DE TRAUMATOLOGIA Y ORTOPEDIA LOM...  ADJUDICACION DIRECTA   \n",
       "\n",
       "   CARACTER TIPO_CONTRATACION FORMA_PROCEDIMIENTO  \\\n",
       "0  NACIONAL     ADQUISICIONES          PRESENCIAL   \n",
       "1  NACIONAL     ADQUISICIONES          PRESENCIAL   \n",
       "2  NACIONAL     ADQUISICIONES          PRESENCIAL   \n",
       "3  NACIONAL     ADQUISICIONES          PRESENCIAL   \n",
       "4  NACIONAL     ADQUISICIONES          PRESENCIAL   \n",
       "\n",
       "                      NOMBRE_DE_LICITANTE ESTATUS_DE_PROPUESTA  CLAVE_CUCOP  \\\n",
       "0                  LUCRECIA MONTOYA ROJAS             PERDEDOR   25400519.0   \n",
       "1                          FARMADESCUENTO              GANADOR   25400519.0   \n",
       "2                          FARMADESCUENTO              GANADOR   25400519.0   \n",
       "3  TECNOLOGIA MEDICA DIART, S.A. DE .C.V.             PERDEDOR   25400519.0   \n",
       "4  TECNOLOGIA MEDICA DIART, S.A. DE .C.V.             PERDEDOR   25400519.0   \n",
       "\n",
       "                                   DESCRIPCION_CUCOP  CANTIDAD  \\\n",
       "0  TUBO ENDOTRAQUEAL SIN GLOBO DE ELASTOMERO DE S...      48.0   \n",
       "1  TUBO ENDOTRAQUEAL SIN GLOBO DE ELASTOMERO DE S...      48.0   \n",
       "2  TUBO ENDOTRAQUEAL SIN GLOBO DE ELASTOMERO DE S...      72.0   \n",
       "3  TUBO ENDOTRAQUEAL SIN GLOBO DE ELASTOMERO DE S...      48.0   \n",
       "4  TUBO ENDOTRAQUEAL SIN GLOBO DE ELASTOMERO DE S...      72.0   \n",
       "\n",
       "  UNIDAD_DE_MEDIDA  PRECIO_UNITARIO ESTATUS_PARTIDA  PRECIO_TOTAL  \\\n",
       "0            PIEZA            35.00   NO ADJUDICADO       1680.00   \n",
       "1            PIEZA            20.00   NO ADJUDICADO        960.00   \n",
       "2            PIEZA            18.00   NO ADJUDICADO       1296.00   \n",
       "3            PIEZA            37.13   NO ADJUDICADO       1782.24   \n",
       "4            PIEZA            37.13   NO ADJUDICADO       2673.36   \n",
       "\n",
       "  ESTATUS_FALLO  EXPEDIENTE                     PROJECT_TYPE  \\\n",
       "0       GANADOR   1015530.0  05. ADJUDICACION DIRECTA LAASSP   \n",
       "1       GANADOR   1015530.0  05. ADJUDICACION DIRECTA LAASSP   \n",
       "2       GANADOR   1015530.0  05. ADJUDICACION DIRECTA LAASSP   \n",
       "3       GANADOR   1015530.0  05. ADJUDICACION DIRECTA LAASSP   \n",
       "4       GANADOR   1015530.0  05. ADJUDICACION DIRECTA LAASSP   \n",
       "\n",
       "          PROJECT_SHORT_DESCRIPTION    PERIODO    CLAVEUC  \n",
       "0  TUBOS ENDOTRAQUEALES, SIN GLOBO.  2016-2017  019GYR071  \n",
       "1  TUBOS ENDOTRAQUEALES, SIN GLOBO.  2016-2017  019GYR071  \n",
       "2  TUBOS ENDOTRAQUEALES, SIN GLOBO.  2016-2017  019GYR071  \n",
       "3  TUBOS ENDOTRAQUEALES, SIN GLOBO.  2016-2017  019GYR071  \n",
       "4  TUBOS ENDOTRAQUEALES, SIN GLOBO.  2016-2017  019GYR071  "
      ]
     },
     "execution_count": 2,
     "metadata": {},
     "output_type": "execute_result"
    }
   ],
   "source": [
    "df_participantes = pd.read_csv(\n",
    "    '../data/processed/participantes_all_2017_09_13.psv', sep='|',\n",
    "    dtype={\n",
    "        'TIPO_PROCEDIMIENTO': 'category', 'TIPO_CONTRATACION': 'category', 'FORMA_PROCEDIMIENTO': 'category',\n",
    "        'ESTATUS_DE_PROPUESTA': 'category', 'ESTATUS_PARTIDA': 'category', 'ESTATUS_FALLO': 'category',\n",
    "        'PERIODO': 'category'\n",
    "    }\n",
    ")\n",
    "df_participantes.head()"
   ]
  },
  {
   "cell_type": "markdown",
   "metadata": {},
   "source": [
    "# Falta quitar comas, puntos y sa de cv"
   ]
  },
  {
   "cell_type": "code",
   "execution_count": 14,
   "metadata": {
    "ExecuteTime": {
     "end_time": "2017-09-13T19:59:58.689460Z",
     "start_time": "2017-09-13T19:59:58.312003Z"
    }
   },
   "outputs": [
    {
     "data": {
      "text/plain": [
       "654643"
      ]
     },
     "execution_count": 14,
     "metadata": {},
     "output_type": "execute_result"
    }
   ],
   "source": [
    "df_participantes.NUMERO_PROCEDIMIENTO.nunique()"
   ]
  },
  {
   "cell_type": "code",
   "execution_count": null,
   "metadata": {
    "collapsed": true
   },
   "outputs": [],
   "source": []
  },
  {
   "cell_type": "code",
   "execution_count": 6,
   "metadata": {
    "ExecuteTime": {
     "end_time": "2017-09-13T19:49:26.012092Z",
     "start_time": "2017-09-13T19:49:22.254466Z"
    },
    "collapsed": true
   },
   "outputs": [],
   "source": [
    "df_test = df_participantes.loc[~df_participantes.NOMBRE_DE_LA_UC.isnull()]\n",
    "df_test = df_test.loc[df_test.NOMBRE_DE_LA_UC.str.contains('Recursos Materiales y servicios'.upper())]"
   ]
  },
  {
   "cell_type": "code",
   "execution_count": 8,
   "metadata": {
    "ExecuteTime": {
     "end_time": "2017-09-13T19:50:31.873133Z",
     "start_time": "2017-09-13T19:50:31.715115Z"
    }
   },
   "outputs": [
    {
     "data": {
      "text/html": [
       "<div>\n",
       "<style>\n",
       "    .dataframe thead tr:only-child th {\n",
       "        text-align: right;\n",
       "    }\n",
       "\n",
       "    .dataframe thead th {\n",
       "        text-align: left;\n",
       "    }\n",
       "\n",
       "    .dataframe tbody tr th {\n",
       "        vertical-align: top;\n",
       "    }\n",
       "</style>\n",
       "<table border=\"1\" class=\"dataframe\">\n",
       "  <thead>\n",
       "    <tr style=\"text-align: right;\">\n",
       "      <th></th>\n",
       "      <th>NUMERO_PROCEDIMIENTO</th>\n",
       "      <th>DEPENDENCIA</th>\n",
       "      <th>NOMBRE_DE_LA_UC</th>\n",
       "      <th>TIPO_PROCEDIMIENTO</th>\n",
       "      <th>CARACTER</th>\n",
       "      <th>TIPO_CONTRATACION</th>\n",
       "      <th>FORMA_PROCEDIMIENTO</th>\n",
       "      <th>NOMBRE_DE_LICITANTE</th>\n",
       "      <th>ESTATUS_DE_PROPUESTA</th>\n",
       "      <th>CLAVE_CUCOP</th>\n",
       "      <th>DESCRIPCION_CUCOP</th>\n",
       "      <th>CANTIDAD</th>\n",
       "      <th>UNIDAD_DE_MEDIDA</th>\n",
       "      <th>PRECIO_UNITARIO</th>\n",
       "      <th>ESTATUS_PARTIDA</th>\n",
       "      <th>PRECIO_TOTAL</th>\n",
       "      <th>ESTATUS_FALLO</th>\n",
       "      <th>EXPEDIENTE</th>\n",
       "      <th>PROJECT_TYPE</th>\n",
       "      <th>PROJECT_SHORT_DESCRIPTION</th>\n",
       "      <th>PERIODO</th>\n",
       "      <th>CLAVEUC</th>\n",
       "    </tr>\n",
       "  </thead>\n",
       "  <tbody>\n",
       "  </tbody>\n",
       "</table>\n",
       "</div>"
      ],
      "text/plain": [
       "Empty DataFrame\n",
       "Columns: [NUMERO_PROCEDIMIENTO, DEPENDENCIA, NOMBRE_DE_LA_UC, TIPO_PROCEDIMIENTO, CARACTER, TIPO_CONTRATACION, FORMA_PROCEDIMIENTO, NOMBRE_DE_LICITANTE, ESTATUS_DE_PROPUESTA, CLAVE_CUCOP, DESCRIPCION_CUCOP, CANTIDAD, UNIDAD_DE_MEDIDA, PRECIO_UNITARIO, ESTATUS_PARTIDA, PRECIO_TOTAL, ESTATUS_FALLO, EXPEDIENTE, PROJECT_TYPE, PROJECT_SHORT_DESCRIPTION, PERIODO, CLAVEUC]\n",
       "Index: []"
      ]
     },
     "execution_count": 8,
     "metadata": {},
     "output_type": "execute_result"
    }
   ],
   "source": [
    "df_test.loc[df_test.PROJECT_SHORT_DESCRIPTION.str.contains('DATOS ABIERTOS')]"
   ]
  },
  {
   "cell_type": "code",
   "execution_count": 12,
   "metadata": {
    "ExecuteTime": {
     "end_time": "2017-09-13T19:56:48.082506Z",
     "start_time": "2017-09-13T19:56:44.126898Z"
    },
    "collapsed": true
   },
   "outputs": [],
   "source": [
    "df_test = df_participantes.loc[~df_participantes.PROJECT_SHORT_DESCRIPTION.isnull()]\n",
    "df_test.loc[\n",
    "    (df_test.PROJECT_SHORT_DESCRIPTION.str.contains('DATOS ABIERTOS')) &\n",
    "    (df_test.NOMBRE_DE_LICITANTE == 'INTELIGENCIA PARTICIPATIVA S A P I DE CV')\n",
    "].to_csv('../data/results/opi.csv', index=False, sep='|', quoting=1)"
   ]
  },
  {
   "cell_type": "code",
   "execution_count": null,
   "metadata": {
    "collapsed": true
   },
   "outputs": [],
   "source": []
  },
  {
   "cell_type": "code",
   "execution_count": null,
   "metadata": {
    "ExecuteTime": {
     "start_time": "2017-09-13T17:46:03.864Z"
    },
    "collapsed": true
   },
   "outputs": [],
   "source": [
    "# df_participantes.to_csv(\n",
    "#     '../data/processed/participantes/participantes_*.psv', encoding='utf-8', quoting=1, sep='|', index=False)"
   ]
  },
  {
   "cell_type": "code",
   "execution_count": null,
   "metadata": {
    "ExecuteTime": {
     "end_time": "2017-09-13T17:45:01.454071Z",
     "start_time": "2017-09-13T17:45:01.427195Z"
    },
    "collapsed": true
   },
   "outputs": [],
   "source": []
  },
  {
   "cell_type": "code",
   "execution_count": null,
   "metadata": {
    "collapsed": true
   },
   "outputs": [],
   "source": []
  },
  {
   "cell_type": "code",
   "execution_count": null,
   "metadata": {
    "ExecuteTime": {
     "end_time": "2017-09-13T16:22:22.335603Z",
     "start_time": "2017-09-13T16:22:22.217881Z"
    },
    "collapsed": true
   },
   "outputs": [],
   "source": []
  },
  {
   "cell_type": "code",
   "execution_count": 8,
   "metadata": {
    "ExecuteTime": {
     "end_time": "2017-09-13T16:24:12.131493Z",
     "start_time": "2017-09-13T16:24:12.100142Z"
    }
   },
   "outputs": [
    {
     "data": {
      "text/html": [
       "<div>\n",
       "<style>\n",
       "    .dataframe thead tr:only-child th {\n",
       "        text-align: right;\n",
       "    }\n",
       "\n",
       "    .dataframe thead th {\n",
       "        text-align: left;\n",
       "    }\n",
       "\n",
       "    .dataframe tbody tr th {\n",
       "        vertical-align: top;\n",
       "    }\n",
       "</style>\n",
       "<table border=\"1\" class=\"dataframe\">\n",
       "  <thead>\n",
       "    <tr style=\"text-align: right;\">\n",
       "      <th></th>\n",
       "      <th>NUMERO_PROCEDIMIENTO</th>\n",
       "      <th>DEPENDENCIA</th>\n",
       "      <th>NOMBRE_DE_LA_UC</th>\n",
       "      <th>TIPO_PROCEDIMIENTO</th>\n",
       "      <th>CARACTER</th>\n",
       "      <th>TIPO_CONTRATACION</th>\n",
       "      <th>FORMA_PROCEDIMIENTO</th>\n",
       "      <th>NOMBRE_DE_LICITANTE</th>\n",
       "      <th>ESTATUS_DE_PROPUESTA</th>\n",
       "      <th>CLAVE_CUCOP</th>\n",
       "      <th>DESCRIPCION_CUCOP</th>\n",
       "      <th>CANTIDAD</th>\n",
       "      <th>UNIDAD_DE_MEDIDA</th>\n",
       "      <th>PRECIO_UNITARIO</th>\n",
       "      <th>ESTATUS_PARTIDA</th>\n",
       "      <th>PRECIO_TOTAL</th>\n",
       "      <th>ESTATUS_FALLO</th>\n",
       "      <th>EXPEDIENTE</th>\n",
       "      <th>PROJECT_TYPE</th>\n",
       "      <th>PROJECT_SHORT_DESCRIPTION</th>\n",
       "      <th>PERIODO</th>\n",
       "    </tr>\n",
       "  </thead>\n",
       "  <tbody>\n",
       "    <tr>\n",
       "      <th>903876</th>\n",
       "      <td>IO-825017982-E9-2017</td>\n",
       "      <td>_GOBIERNO MUNICIPAL DEL ESTADO DE SINALOA</td>\n",
       "      <td>SIN-SINALOA-MUNICIPIO DE SINALOA #825017982</td>\n",
       "      <td>SIN PLANTILLA</td>\n",
       "      <td>NACIONAL</td>\n",
       "      <td>NaN</td>\n",
       "      <td>PRESENCIAL</td>\n",
       "      <td>NaN</td>\n",
       "      <td>NaN</td>\n",
       "      <td>NaN</td>\n",
       "      <td>NaN</td>\n",
       "      <td>NaN</td>\n",
       "      <td>NaN</td>\n",
       "      <td>NaN</td>\n",
       "      <td>NaN</td>\n",
       "      <td>NaN</td>\n",
       "      <td>NO GANADOR</td>\n",
       "      <td>NaN</td>\n",
       "      <td>NaN</td>\n",
       "      <td>NaN</td>\n",
       "      <td>2016-2017</td>\n",
       "    </tr>\n",
       "    <tr>\n",
       "      <th>972621</th>\n",
       "      <td>IO-825017982-E10-2017</td>\n",
       "      <td>_GOBIERNO MUNICIPAL DEL ESTADO DE SINALOA</td>\n",
       "      <td>SIN-SINALOA-MUNICIPIO DE SINALOA #825017982</td>\n",
       "      <td>SIN PLANTILLA</td>\n",
       "      <td>NACIONAL</td>\n",
       "      <td>NaN</td>\n",
       "      <td>PRESENCIAL</td>\n",
       "      <td>NaN</td>\n",
       "      <td>NaN</td>\n",
       "      <td>NaN</td>\n",
       "      <td>NaN</td>\n",
       "      <td>NaN</td>\n",
       "      <td>NaN</td>\n",
       "      <td>NaN</td>\n",
       "      <td>NaN</td>\n",
       "      <td>NaN</td>\n",
       "      <td>NO GANADOR</td>\n",
       "      <td>NaN</td>\n",
       "      <td>NaN</td>\n",
       "      <td>NaN</td>\n",
       "      <td>2016-2017</td>\n",
       "    </tr>\n",
       "    <tr>\n",
       "      <th>979929</th>\n",
       "      <td>NaN</td>\n",
       "      <td>COMISION FEDERAL DE ELECTRICIDAD</td>\n",
       "      <td>CFE-DISTRIBUCION #018TOQ731</td>\n",
       "      <td>SIN PLANTILLA</td>\n",
       "      <td>NACIONAL</td>\n",
       "      <td>NaN</td>\n",
       "      <td>MIXTA</td>\n",
       "      <td>NaN</td>\n",
       "      <td>NaN</td>\n",
       "      <td>NaN</td>\n",
       "      <td>NaN</td>\n",
       "      <td>NaN</td>\n",
       "      <td>NaN</td>\n",
       "      <td>NaN</td>\n",
       "      <td>NaN</td>\n",
       "      <td>NaN</td>\n",
       "      <td>NO GANADOR</td>\n",
       "      <td>NaN</td>\n",
       "      <td>NaN</td>\n",
       "      <td>NaN</td>\n",
       "      <td>2016-2017</td>\n",
       "    </tr>\n",
       "  </tbody>\n",
       "</table>\n",
       "</div>"
      ],
      "text/plain": [
       "         NUMERO_PROCEDIMIENTO                                DEPENDENCIA  \\\n",
       "903876   IO-825017982-E9-2017  _GOBIERNO MUNICIPAL DEL ESTADO DE SINALOA   \n",
       "972621  IO-825017982-E10-2017  _GOBIERNO MUNICIPAL DEL ESTADO DE SINALOA   \n",
       "979929                    NaN           COMISION FEDERAL DE ELECTRICIDAD   \n",
       "\n",
       "                                    NOMBRE_DE_LA_UC TIPO_PROCEDIMIENTO  \\\n",
       "903876  SIN-SINALOA-MUNICIPIO DE SINALOA #825017982      SIN PLANTILLA   \n",
       "972621  SIN-SINALOA-MUNICIPIO DE SINALOA #825017982      SIN PLANTILLA   \n",
       "979929                  CFE-DISTRIBUCION #018TOQ731      SIN PLANTILLA   \n",
       "\n",
       "        CARACTER TIPO_CONTRATACION FORMA_PROCEDIMIENTO NOMBRE_DE_LICITANTE  \\\n",
       "903876  NACIONAL               NaN          PRESENCIAL                 NaN   \n",
       "972621  NACIONAL               NaN          PRESENCIAL                 NaN   \n",
       "979929  NACIONAL               NaN               MIXTA                 NaN   \n",
       "\n",
       "       ESTATUS_DE_PROPUESTA  CLAVE_CUCOP DESCRIPCION_CUCOP  CANTIDAD  \\\n",
       "903876                  NaN          NaN               NaN       NaN   \n",
       "972621                  NaN          NaN               NaN       NaN   \n",
       "979929                  NaN          NaN               NaN       NaN   \n",
       "\n",
       "       UNIDAD_DE_MEDIDA  PRECIO_UNITARIO ESTATUS_PARTIDA  PRECIO_TOTAL  \\\n",
       "903876              NaN              NaN             NaN           NaN   \n",
       "972621              NaN              NaN             NaN           NaN   \n",
       "979929              NaN              NaN             NaN           NaN   \n",
       "\n",
       "       ESTATUS_FALLO  EXPEDIENTE PROJECT_TYPE PROJECT_SHORT_DESCRIPTION  \\\n",
       "903876    NO GANADOR         NaN          NaN                       NaN   \n",
       "972621    NO GANADOR         NaN          NaN                       NaN   \n",
       "979929    NO GANADOR         NaN          NaN                       NaN   \n",
       "\n",
       "          PERIODO  \n",
       "903876  2016-2017  \n",
       "972621  2016-2017  \n",
       "979929  2016-2017  "
      ]
     },
     "execution_count": 8,
     "metadata": {},
     "output_type": "execute_result"
    }
   ],
   "source": [
    "df_participantes.loc[df_participantes.EXPEDIENTE.isnull()]"
   ]
  },
  {
   "cell_type": "code",
   "execution_count": 6,
   "metadata": {
    "ExecuteTime": {
     "end_time": "2017-09-13T16:23:10.997477Z",
     "start_time": "2017-09-13T16:23:10.991626Z"
    }
   },
   "outputs": [
    {
     "data": {
      "text/plain": [
       "(5661383, 21)"
      ]
     },
     "execution_count": 6,
     "metadata": {},
     "output_type": "execute_result"
    }
   ],
   "source": [
    "df_participantes.shape"
   ]
  },
  {
   "cell_type": "code",
   "execution_count": null,
   "metadata": {
    "collapsed": true
   },
   "outputs": [],
   "source": [
    "# df_participantes = dd.read_csv('../data/raw/perdedores/participantes_*', encoding='iso-8859-1')"
   ]
  },
  {
   "cell_type": "code",
   "execution_count": 18,
   "metadata": {
    "ExecuteTime": {
     "end_time": "2017-09-13T15:31:32.785829Z",
     "start_time": "2017-09-13T15:31:32.779690Z"
    }
   },
   "outputs": [
    {
     "data": {
      "text/plain": [
       "Index(['Nº de Procedimiento', 'Dependencia/Entidad', 'Unidad Compradora',\n",
       "       'Tipo procedimiento', 'Carácter', 'Tipo contratación',\n",
       "       'Forma del procedimiento', 'Nombre de Licitante',\n",
       "       'Estatus de Propuesta', 'Clave CUCOP', 'Descripción CUCOP', 'Cantidad',\n",
       "       'Unidad de medida', 'Precio Unitario', 'Estatus Partida',\n",
       "       'Precio Total', 'Estatus Fallo', 'Expediente', 'PROJECT_TYPE',\n",
       "       'PROJECT_SHORT_DESCRIPTION'],\n",
       "      dtype='object')"
      ]
     },
     "execution_count": 18,
     "metadata": {},
     "output_type": "execute_result"
    }
   ],
   "source": [
    "# df_perdedores1.columns"
   ]
  },
  {
   "cell_type": "code",
   "execution_count": 2,
   "metadata": {
    "ExecuteTime": {
     "end_time": "2017-09-18T15:49:21.038951Z",
     "start_time": "2017-09-18T15:49:19.203922Z"
    }
   },
   "outputs": [
    {
     "data": {
      "text/html": [
       "<div>\n",
       "<style>\n",
       "    .dataframe thead tr:only-child th {\n",
       "        text-align: right;\n",
       "    }\n",
       "\n",
       "    .dataframe thead th {\n",
       "        text-align: left;\n",
       "    }\n",
       "\n",
       "    .dataframe tbody tr th {\n",
       "        vertical-align: top;\n",
       "    }\n",
       "</style>\n",
       "<table border=\"1\" class=\"dataframe\">\n",
       "  <thead>\n",
       "    <tr style=\"text-align: right;\">\n",
       "      <th></th>\n",
       "      <th>GOBIERNO</th>\n",
       "      <th>DEPENDENCIA</th>\n",
       "      <th>SIGLAS</th>\n",
       "      <th>NOMBRE_DE_LA_UC</th>\n",
       "      <th>CLAVEUC</th>\n",
       "      <th>RESPONSABLE</th>\n",
       "      <th>ESTRATIFICACION_MUC</th>\n",
       "      <th>FOLIO_RUPC</th>\n",
       "      <th>PROVEEDOR_CONTRATISTA</th>\n",
       "      <th>ESTATUS_EMPRESA</th>\n",
       "      <th>ESTRATIFICACION_MPC</th>\n",
       "      <th>IMPORTE_CONTRATO</th>\n",
       "      <th>APORTACION_FEDERAL</th>\n",
       "      <th>MONEDA</th>\n",
       "      <th>NUMERO_PROCEDIMIENTO</th>\n",
       "      <th>FORMA_PROCEDIMIENTO</th>\n",
       "      <th>TIPO_PROCEDIMIENTO</th>\n",
       "      <th>CODIGO_CONTRATO</th>\n",
       "      <th>TITULO_CONTRATO</th>\n",
       "      <th>IDENTIFICADOR_CM</th>\n",
       "      <th>TIPO_CONTRATACION</th>\n",
       "      <th>ESTATUS_CONTRATO</th>\n",
       "      <th>COMPRA_CONSOLIDADA</th>\n",
       "      <th>PLURIANUAL</th>\n",
       "      <th>CARACTER</th>\n",
       "      <th>CONTRATO_MARCO</th>\n",
       "      <th>CONVENIO_MODIFICATORIO</th>\n",
       "      <th>PROC_F_PUBLICACION</th>\n",
       "      <th>FECHA_APERTURA_PROPOSICIONES</th>\n",
       "      <th>EXP_F_FALLO</th>\n",
       "      <th>FECHA_CELEBRACION</th>\n",
       "      <th>FECHA_INICIO</th>\n",
       "      <th>FECHA_FIN</th>\n",
       "      <th>CODIGO_EXPEDIENTE</th>\n",
       "      <th>TITULO_EXPEDIENTE</th>\n",
       "      <th>PLANTILLA_EXPEDIENTE</th>\n",
       "      <th>CLAVE_PROGRAMA</th>\n",
       "      <th>CUENTA_ADMINISTRADA_POR</th>\n",
       "      <th>ANUNCIO</th>\n",
       "      <th>ARCHIVADO</th>\n",
       "      <th>SIGLAS_PAIS</th>\n",
       "      <th>RAMO</th>\n",
       "      <th>ORGANISMO</th>\n",
       "      <th>C_EXTERNO</th>\n",
       "      <th>CLAVEUC_REAL</th>\n",
       "      <th>IMPORTE_PESOS</th>\n",
       "    </tr>\n",
       "  </thead>\n",
       "  <tbody>\n",
       "    <tr>\n",
       "      <th>0</th>\n",
       "      <td>GE</td>\n",
       "      <td>_GOBIERNO DEL ESTADO DE AGUASCALIENTES</td>\n",
       "      <td>AGS</td>\n",
       "      <td>AGS-INSTITUTO DE EDUCACION DE AGUASCALIENTES-I...</td>\n",
       "      <td>901024986</td>\n",
       "      <td>ANTONIO RUBEN CIENFUEGOS BENAVIDES</td>\n",
       "      <td>NO MIPYME</td>\n",
       "      <td>nan</td>\n",
       "      <td>RAUL EUGENIO ALVAREZ CARRASCO</td>\n",
       "      <td>HABILITADO</td>\n",
       "      <td>MICRO</td>\n",
       "      <td>512930.40</td>\n",
       "      <td>NaN</td>\n",
       "      <td>MXN</td>\n",
       "      <td>IA-901024986-N44-2012</td>\n",
       "      <td>None</td>\n",
       "      <td>INVITACION A CUANDO MENOS 3 PERSONAS</td>\n",
       "      <td>208993</td>\n",
       "      <td>N44 MOB ETC</td>\n",
       "      <td>None</td>\n",
       "      <td>ADQUISICIONES</td>\n",
       "      <td>EXPIRADO</td>\n",
       "      <td>0.0</td>\n",
       "      <td>0.0</td>\n",
       "      <td>None</td>\n",
       "      <td>0.0</td>\n",
       "      <td>0.0</td>\n",
       "      <td>2012-10-17 14:51:00</td>\n",
       "      <td>2012-10-23 11:30:00</td>\n",
       "      <td>2012-10-23</td>\n",
       "      <td>NaT</td>\n",
       "      <td>2012-10-23</td>\n",
       "      <td>2012-12-31</td>\n",
       "      <td>271313</td>\n",
       "      <td>ADQUISICION DE MOBILIARIO</td>\n",
       "      <td>Z15122015 04. Invitación a cuando menos tres N...</td>\n",
       "      <td>None</td>\n",
       "      <td>PoC</td>\n",
       "      <td>None</td>\n",
       "      <td>No</td>\n",
       "      <td>MX</td>\n",
       "      <td>NaN</td>\n",
       "      <td>None</td>\n",
       "      <td>NaN</td>\n",
       "      <td>901024986</td>\n",
       "      <td>512930.40</td>\n",
       "    </tr>\n",
       "    <tr>\n",
       "      <th>1</th>\n",
       "      <td>GE</td>\n",
       "      <td>_GOBIERNO DEL ESTADO DE AGUASCALIENTES</td>\n",
       "      <td>AGS</td>\n",
       "      <td>AGS-INSTITUTO DE EDUCACION DE AGUASCALIENTES-I...</td>\n",
       "      <td>901024986</td>\n",
       "      <td>ANTONIO RUBEN CIENFUEGOS BENAVIDES</td>\n",
       "      <td>NO MIPYME</td>\n",
       "      <td>nan</td>\n",
       "      <td>MA DE LA LUZ TISCARENO ELIAS</td>\n",
       "      <td>HABILITADO</td>\n",
       "      <td>NO MIPYME</td>\n",
       "      <td>1887409.40</td>\n",
       "      <td>NaN</td>\n",
       "      <td>MXN</td>\n",
       "      <td>IA-901024986-N44-2012</td>\n",
       "      <td>None</td>\n",
       "      <td>INVITACION A CUANDO MENOS 3 PERSONAS</td>\n",
       "      <td>208992</td>\n",
       "      <td>N44 MOB ETC</td>\n",
       "      <td>None</td>\n",
       "      <td>ADQUISICIONES</td>\n",
       "      <td>EXPIRADO</td>\n",
       "      <td>0.0</td>\n",
       "      <td>0.0</td>\n",
       "      <td>None</td>\n",
       "      <td>0.0</td>\n",
       "      <td>0.0</td>\n",
       "      <td>2012-10-17 14:51:00</td>\n",
       "      <td>2012-10-23 11:30:00</td>\n",
       "      <td>2012-10-23</td>\n",
       "      <td>NaT</td>\n",
       "      <td>2012-10-23</td>\n",
       "      <td>2012-10-31</td>\n",
       "      <td>271313</td>\n",
       "      <td>ADQUISICION DE MOBILIARIO</td>\n",
       "      <td>Z15122015 04. Invitación a cuando menos tres N...</td>\n",
       "      <td>None</td>\n",
       "      <td>PoC</td>\n",
       "      <td>None</td>\n",
       "      <td>No</td>\n",
       "      <td>MX</td>\n",
       "      <td>NaN</td>\n",
       "      <td>None</td>\n",
       "      <td>NaN</td>\n",
       "      <td>901024986</td>\n",
       "      <td>1887409.40</td>\n",
       "    </tr>\n",
       "    <tr>\n",
       "      <th>2</th>\n",
       "      <td>GE</td>\n",
       "      <td>_GOBIERNO DEL ESTADO DE AGUASCALIENTES</td>\n",
       "      <td>AGS</td>\n",
       "      <td>AGS-INSTITUTO DE EDUCACION DE AGUASCALIENTES-I...</td>\n",
       "      <td>901024986</td>\n",
       "      <td>ANTONIO RUBEN CIENFUEGOS BENAVIDES</td>\n",
       "      <td>NO MIPYME</td>\n",
       "      <td>nan</td>\n",
       "      <td>PAPELERIA CONSUMIBLES Y ACCESORIOS SA DE CV</td>\n",
       "      <td>HABILITADO</td>\n",
       "      <td>MICRO</td>\n",
       "      <td>1892535.82</td>\n",
       "      <td>NaN</td>\n",
       "      <td>MXN</td>\n",
       "      <td>IA-901024986-N53-2012</td>\n",
       "      <td>None</td>\n",
       "      <td>INVITACION A CUANDO MENOS 3 PERSONAS</td>\n",
       "      <td>257525</td>\n",
       "      <td>IEA.DJ.CONT. 1140/2012</td>\n",
       "      <td>None</td>\n",
       "      <td>ADQUISICIONES</td>\n",
       "      <td>EXPIRADO</td>\n",
       "      <td>0.0</td>\n",
       "      <td>0.0</td>\n",
       "      <td>None</td>\n",
       "      <td>0.0</td>\n",
       "      <td>0.0</td>\n",
       "      <td>2012-11-05 14:34:00</td>\n",
       "      <td>2012-11-12 10:00:00</td>\n",
       "      <td>2012-10-19</td>\n",
       "      <td>NaT</td>\n",
       "      <td>2012-11-12</td>\n",
       "      <td>2012-12-31</td>\n",
       "      <td>268049</td>\n",
       "      <td>IEA PAPELERIA Y CONSUMIBLES</td>\n",
       "      <td>Z15122015 04. Invitación a cuando menos tres N...</td>\n",
       "      <td>None</td>\n",
       "      <td>PoC</td>\n",
       "      <td>None</td>\n",
       "      <td>No</td>\n",
       "      <td>MX</td>\n",
       "      <td>NaN</td>\n",
       "      <td>None</td>\n",
       "      <td>NaN</td>\n",
       "      <td>901024986</td>\n",
       "      <td>1892535.82</td>\n",
       "    </tr>\n",
       "    <tr>\n",
       "      <th>3</th>\n",
       "      <td>GE</td>\n",
       "      <td>_GOBIERNO DEL ESTADO DE AGUASCALIENTES</td>\n",
       "      <td>AGS</td>\n",
       "      <td>AGS-INSTITUTO DE EDUCACION DE AGUASCALIENTES-I...</td>\n",
       "      <td>901024986</td>\n",
       "      <td>ANTONIO RUBEN CIENFUEGOS BENAVIDES</td>\n",
       "      <td>NO MIPYME</td>\n",
       "      <td>19761</td>\n",
       "      <td>TELECOMUNICACIONES MODERNAS SA DE CV</td>\n",
       "      <td>HABILITADO</td>\n",
       "      <td>PEQUENA</td>\n",
       "      <td>24234.00</td>\n",
       "      <td>NaN</td>\n",
       "      <td>MXN</td>\n",
       "      <td>AA-901024986-N31-2012</td>\n",
       "      <td>None</td>\n",
       "      <td>ADJUDICACION DIRECTA FEDERAL</td>\n",
       "      <td>241054</td>\n",
       "      <td>CONSUMIBLES</td>\n",
       "      <td>None</td>\n",
       "      <td>ADQUISICIONES</td>\n",
       "      <td>EXPIRADO</td>\n",
       "      <td>0.0</td>\n",
       "      <td>0.0</td>\n",
       "      <td>None</td>\n",
       "      <td>0.0</td>\n",
       "      <td>0.0</td>\n",
       "      <td>2012-09-06 08:49:00</td>\n",
       "      <td>2012-09-07 09:00:00</td>\n",
       "      <td>NaT</td>\n",
       "      <td>NaT</td>\n",
       "      <td>2012-09-11</td>\n",
       "      <td>2012-12-31</td>\n",
       "      <td>252725</td>\n",
       "      <td>COORDINACION ESTATAL DE ASESORIA Y SEGUIMIENTO...</td>\n",
       "      <td>Z15122015 07. Adjudicación Directa Nacional Ar...</td>\n",
       "      <td>None</td>\n",
       "      <td>PoC</td>\n",
       "      <td>None</td>\n",
       "      <td>No</td>\n",
       "      <td>MX</td>\n",
       "      <td>NaN</td>\n",
       "      <td>None</td>\n",
       "      <td>NaN</td>\n",
       "      <td>901024986</td>\n",
       "      <td>24234.00</td>\n",
       "    </tr>\n",
       "    <tr>\n",
       "      <th>4</th>\n",
       "      <td>GE</td>\n",
       "      <td>_GOBIERNO DEL ESTADO DE AGUASCALIENTES</td>\n",
       "      <td>AGS</td>\n",
       "      <td>AGS-INSTITUTO DE EDUCACION DE AGUASCALIENTES-I...</td>\n",
       "      <td>901024986</td>\n",
       "      <td>ANTONIO RUBEN CIENFUEGOS BENAVIDES</td>\n",
       "      <td>NO MIPYME</td>\n",
       "      <td>19761</td>\n",
       "      <td>TELECOMUNICACIONES MODERNAS SA DE CV</td>\n",
       "      <td>HABILITADO</td>\n",
       "      <td>PEQUENA</td>\n",
       "      <td>18700.00</td>\n",
       "      <td>NaN</td>\n",
       "      <td>MXN</td>\n",
       "      <td>AA-901024986-N64-2012</td>\n",
       "      <td>None</td>\n",
       "      <td>ADJUDICACION DIRECTA FEDERAL</td>\n",
       "      <td>474294</td>\n",
       "      <td>ADQUISICION DE EQUIPO DE COMPUTO</td>\n",
       "      <td>None</td>\n",
       "      <td>ADQUISICIONES</td>\n",
       "      <td>EXPIRADO</td>\n",
       "      <td>0.0</td>\n",
       "      <td>0.0</td>\n",
       "      <td>None</td>\n",
       "      <td>0.0</td>\n",
       "      <td>0.0</td>\n",
       "      <td>2012-12-12 11:38:00</td>\n",
       "      <td>2012-12-14 10:00:00</td>\n",
       "      <td>NaT</td>\n",
       "      <td>NaT</td>\n",
       "      <td>2012-12-17</td>\n",
       "      <td>2012-12-31</td>\n",
       "      <td>320854</td>\n",
       "      <td>EQUIPO DE COMPUTO DESARROLLO EDUCATIVO</td>\n",
       "      <td>Z15122015 07. Adjudicación Directa Nacional Ar...</td>\n",
       "      <td>None</td>\n",
       "      <td>PoC</td>\n",
       "      <td>None</td>\n",
       "      <td>No</td>\n",
       "      <td>MX</td>\n",
       "      <td>NaN</td>\n",
       "      <td>None</td>\n",
       "      <td>NaN</td>\n",
       "      <td>901024986</td>\n",
       "      <td>18700.00</td>\n",
       "    </tr>\n",
       "  </tbody>\n",
       "</table>\n",
       "</div>"
      ],
      "text/plain": [
       "  GOBIERNO                             DEPENDENCIA SIGLAS  \\\n",
       "0       GE  _GOBIERNO DEL ESTADO DE AGUASCALIENTES    AGS   \n",
       "1       GE  _GOBIERNO DEL ESTADO DE AGUASCALIENTES    AGS   \n",
       "2       GE  _GOBIERNO DEL ESTADO DE AGUASCALIENTES    AGS   \n",
       "3       GE  _GOBIERNO DEL ESTADO DE AGUASCALIENTES    AGS   \n",
       "4       GE  _GOBIERNO DEL ESTADO DE AGUASCALIENTES    AGS   \n",
       "\n",
       "                                     NOMBRE_DE_LA_UC    CLAVEUC  \\\n",
       "0  AGS-INSTITUTO DE EDUCACION DE AGUASCALIENTES-I...  901024986   \n",
       "1  AGS-INSTITUTO DE EDUCACION DE AGUASCALIENTES-I...  901024986   \n",
       "2  AGS-INSTITUTO DE EDUCACION DE AGUASCALIENTES-I...  901024986   \n",
       "3  AGS-INSTITUTO DE EDUCACION DE AGUASCALIENTES-I...  901024986   \n",
       "4  AGS-INSTITUTO DE EDUCACION DE AGUASCALIENTES-I...  901024986   \n",
       "\n",
       "                          RESPONSABLE ESTRATIFICACION_MUC FOLIO_RUPC  \\\n",
       "0  ANTONIO RUBEN CIENFUEGOS BENAVIDES           NO MIPYME        nan   \n",
       "1  ANTONIO RUBEN CIENFUEGOS BENAVIDES           NO MIPYME        nan   \n",
       "2  ANTONIO RUBEN CIENFUEGOS BENAVIDES           NO MIPYME        nan   \n",
       "3  ANTONIO RUBEN CIENFUEGOS BENAVIDES           NO MIPYME      19761   \n",
       "4  ANTONIO RUBEN CIENFUEGOS BENAVIDES           NO MIPYME      19761   \n",
       "\n",
       "                         PROVEEDOR_CONTRATISTA ESTATUS_EMPRESA  \\\n",
       "0                RAUL EUGENIO ALVAREZ CARRASCO      HABILITADO   \n",
       "1                 MA DE LA LUZ TISCARENO ELIAS      HABILITADO   \n",
       "2  PAPELERIA CONSUMIBLES Y ACCESORIOS SA DE CV      HABILITADO   \n",
       "3         TELECOMUNICACIONES MODERNAS SA DE CV      HABILITADO   \n",
       "4         TELECOMUNICACIONES MODERNAS SA DE CV      HABILITADO   \n",
       "\n",
       "  ESTRATIFICACION_MPC  IMPORTE_CONTRATO  APORTACION_FEDERAL MONEDA  \\\n",
       "0               MICRO         512930.40                 NaN    MXN   \n",
       "1           NO MIPYME        1887409.40                 NaN    MXN   \n",
       "2               MICRO        1892535.82                 NaN    MXN   \n",
       "3             PEQUENA          24234.00                 NaN    MXN   \n",
       "4             PEQUENA          18700.00                 NaN    MXN   \n",
       "\n",
       "    NUMERO_PROCEDIMIENTO FORMA_PROCEDIMIENTO  \\\n",
       "0  IA-901024986-N44-2012                None   \n",
       "1  IA-901024986-N44-2012                None   \n",
       "2  IA-901024986-N53-2012                None   \n",
       "3  AA-901024986-N31-2012                None   \n",
       "4  AA-901024986-N64-2012                None   \n",
       "\n",
       "                     TIPO_PROCEDIMIENTO CODIGO_CONTRATO  \\\n",
       "0  INVITACION A CUANDO MENOS 3 PERSONAS          208993   \n",
       "1  INVITACION A CUANDO MENOS 3 PERSONAS          208992   \n",
       "2  INVITACION A CUANDO MENOS 3 PERSONAS          257525   \n",
       "3          ADJUDICACION DIRECTA FEDERAL          241054   \n",
       "4          ADJUDICACION DIRECTA FEDERAL          474294   \n",
       "\n",
       "                    TITULO_CONTRATO IDENTIFICADOR_CM TIPO_CONTRATACION  \\\n",
       "0                       N44 MOB ETC             None     ADQUISICIONES   \n",
       "1                       N44 MOB ETC             None     ADQUISICIONES   \n",
       "2            IEA.DJ.CONT. 1140/2012             None     ADQUISICIONES   \n",
       "3                       CONSUMIBLES             None     ADQUISICIONES   \n",
       "4  ADQUISICION DE EQUIPO DE COMPUTO             None     ADQUISICIONES   \n",
       "\n",
       "  ESTATUS_CONTRATO  COMPRA_CONSOLIDADA  PLURIANUAL CARACTER  CONTRATO_MARCO  \\\n",
       "0         EXPIRADO                 0.0         0.0     None             0.0   \n",
       "1         EXPIRADO                 0.0         0.0     None             0.0   \n",
       "2         EXPIRADO                 0.0         0.0     None             0.0   \n",
       "3         EXPIRADO                 0.0         0.0     None             0.0   \n",
       "4         EXPIRADO                 0.0         0.0     None             0.0   \n",
       "\n",
       "   CONVENIO_MODIFICATORIO  PROC_F_PUBLICACION FECHA_APERTURA_PROPOSICIONES  \\\n",
       "0                     0.0 2012-10-17 14:51:00          2012-10-23 11:30:00   \n",
       "1                     0.0 2012-10-17 14:51:00          2012-10-23 11:30:00   \n",
       "2                     0.0 2012-11-05 14:34:00          2012-11-12 10:00:00   \n",
       "3                     0.0 2012-09-06 08:49:00          2012-09-07 09:00:00   \n",
       "4                     0.0 2012-12-12 11:38:00          2012-12-14 10:00:00   \n",
       "\n",
       "  EXP_F_FALLO FECHA_CELEBRACION FECHA_INICIO  FECHA_FIN CODIGO_EXPEDIENTE  \\\n",
       "0  2012-10-23               NaT   2012-10-23 2012-12-31            271313   \n",
       "1  2012-10-23               NaT   2012-10-23 2012-10-31            271313   \n",
       "2  2012-10-19               NaT   2012-11-12 2012-12-31            268049   \n",
       "3         NaT               NaT   2012-09-11 2012-12-31            252725   \n",
       "4         NaT               NaT   2012-12-17 2012-12-31            320854   \n",
       "\n",
       "                                   TITULO_EXPEDIENTE  \\\n",
       "0                          ADQUISICION DE MOBILIARIO   \n",
       "1                          ADQUISICION DE MOBILIARIO   \n",
       "2                        IEA PAPELERIA Y CONSUMIBLES   \n",
       "3  COORDINACION ESTATAL DE ASESORIA Y SEGUIMIENTO...   \n",
       "4             EQUIPO DE COMPUTO DESARROLLO EDUCATIVO   \n",
       "\n",
       "                                PLANTILLA_EXPEDIENTE CLAVE_PROGRAMA  \\\n",
       "0  Z15122015 04. Invitación a cuando menos tres N...           None   \n",
       "1  Z15122015 04. Invitación a cuando menos tres N...           None   \n",
       "2  Z15122015 04. Invitación a cuando menos tres N...           None   \n",
       "3  Z15122015 07. Adjudicación Directa Nacional Ar...           None   \n",
       "4  Z15122015 07. Adjudicación Directa Nacional Ar...           None   \n",
       "\n",
       "  CUENTA_ADMINISTRADA_POR ANUNCIO ARCHIVADO SIGLAS_PAIS  RAMO ORGANISMO  \\\n",
       "0                     PoC    None        No          MX   NaN      None   \n",
       "1                     PoC    None        No          MX   NaN      None   \n",
       "2                     PoC    None        No          MX   NaN      None   \n",
       "3                     PoC    None        No          MX   NaN      None   \n",
       "4                     PoC    None        No          MX   NaN      None   \n",
       "\n",
       "   C_EXTERNO CLAVEUC_REAL  IMPORTE_PESOS  \n",
       "0        NaN    901024986      512930.40  \n",
       "1        NaN    901024986     1887409.40  \n",
       "2        NaN    901024986     1892535.82  \n",
       "3        NaN    901024986       24234.00  \n",
       "4        NaN    901024986       18700.00  "
      ]
     },
     "execution_count": 2,
     "metadata": {},
     "output_type": "execute_result"
    }
   ],
   "source": [
    "df = feather.read_dataframe('../data/processed/procedimientos_all_2017_07_19.feather')\n",
    "df.head()"
   ]
  },
  {
   "cell_type": "code",
   "execution_count": 10,
   "metadata": {
    "ExecuteTime": {
     "end_time": "2017-09-18T15:51:14.788765Z",
     "start_time": "2017-09-18T15:51:14.007925Z"
    },
    "scrolled": true
   },
   "outputs": [
    {
     "data": {
      "text/plain": [
       "COMISION FEDERAL DE ELECTRICIDAD                                                                            143275\n",
       "INSTITUTO MEXICANO DEL SEGURO SOCIAL                                                                        110415\n",
       "DICONSA, SA DE CV                                                                                            42536\n",
       "INSTITUTO DE SEGURIDAD Y SERVICIOS SOCIALES DE LOS TRABAJADORES DEL ESTADO                                   40301\n",
       "SECRETARIA DE COMUNICACIONES Y TRANSPORTES                                                                   27680\n",
       "PETROLEOS MEXICANOS (CORPORATIVO)                                                                            17036\n",
       "COMISION NACIONAL DEL AGUA                                                                                   14233\n",
       "CENTRO DE INVESTIGACION Y DE ESTUDIOS AVANZADOS DEL INSTITUTO POLITECNICO NACIONAL                            9647\n",
       "SECRETARIA DE EDUCACION PUBLICA                                                                               7709\n",
       "SECRETARIA DE LA DEFENSA NACIONAL                                                                             7680\n",
       "INSTITUTO NACIONAL DE BELLAS ARTES Y LITERATURA                                                               7649\n",
       "INSTITUTO NACIONAL DE INVESTIGACIONES FORESTALES, AGRICOLAS Y PECUARIAS                                       7569\n",
       "_GOBIERNO DEL ESTADO DE VERACRUZ DE IGNACIO DE LA LLAVE                                                       7518\n",
       "SECRETARIA DE AGRICULTURA, GANADERIA, DESARROLLO RURAL, PESCA Y ALIMENTACION                                  7471\n",
       "SECRETARIA DE DESARROLLO AGRARIO, TERRITORIAL Y URBANO                                                        7238\n",
       "HOSPITAL JUAREZ DE MEXICO                                                                                     7158\n",
       "SERVICIO DE ADMINISTRACION TRIBUTARIA                                                                         6982\n",
       "SECRETARIA DE MARINA                                                                                          6913\n",
       "LICONSA, SA DE CV                                                                                             6723\n",
       "INSTITUTO DE ADMINISTRACION Y AVALUOS DE BIENES NACIONALES                                                    6539\n",
       "IMPRESORA Y ENCUADERNADORA PROGRESO, SA DE CV                                                                 6423\n",
       "CAMINOS Y PUENTES FEDERALES DE INGRESOS Y SERVICIOS CONEXOS                                                   6104\n",
       "_GOBIERNO DEL ESTADO DE AGUASCALIENTES                                                                        6088\n",
       "COLEGIO DE POSTGRADUADOS                                                                                      5609\n",
       "AEROPUERTOS Y SERVICIOS AUXILIARES                                                                            5592\n",
       "COMISION NACIONAL FORESTAL                                                                                    5496\n",
       "_GOBIERNO MUNICIPAL DEL ESTADO DE PUEBLA                                                                      5139\n",
       "AGENCIA DE SERVICIOS A LA COMERCIALIZACION Y DESARROLLO DE MERCADOS AGROPECUARIOS                             5084\n",
       "BANCO NACIONAL DEL EJERCITO, FUERZA AEREA Y ARMADA, SNC                                                       4873\n",
       "CENTRO DE INVESTIGACIONES BIOLOGICAS DEL NOROESTE, SC                                                         4558\n",
       "INSTITUTO MEXICANO DEL PETROLEO                                                                               4539\n",
       "SERVICIO NACIONAL DE SANIDAD, INOCUIDAD Y CALIDAD AGROALIMENTARIA                                             4494\n",
       "HOSPITAL INFANTIL DE MEXICO FEDERICO GOMEZ                                                                    4480\n",
       "INSTITUTO NACIONAL DE CANCEROLOGIA                                                                            4371\n",
       "HOSPITAL GENERAL DE MEXICO                                                                                    4360\n",
       "INSTITUTO NACIONAL DE LA INFRAESTRUCTURA FISICA EDUCATIVA                                                     4297\n",
       "INSTITUTO NACIONAL DE ELECTRICIDAD Y ENERGIAS LIMPIAS                                                         3942\n",
       "FONATUR MANTENIMIENTO TURISTICO, SA DE CV                                                                     3915\n",
       "SECRETARIA DE LA FUNCION PUBLICA                                                                              3752\n",
       "_GOBIERNO DEL ESTADO DE SONORA                                                                                3752\n",
       "_GOBIERNO DEL ESTADO DE SINALOA                                                                               3751\n",
       "_GOBIERNO DEL ESTADO DE PUEBLA                                                                                3717\n",
       "_GOBIERNO DEL ESTADO DE OAXACA                                                                                3613\n",
       "_GOBIERNO MUNICIPAL DEL ESTADO DE GUANAJUATO                                                                  3484\n",
       "_GOBIERNO MUNICIPAL DEL ESTADO DE MEXICO                                                                      3427\n",
       "ADMINISTRACION PORTUARIA INTEGRAL DE VERACRUZ, SA DE CV                                                       3389\n",
       "INSTITUTO MEXICANO DE TECNOLOGIA DEL AGUA                                                                     3313\n",
       "INSTITUTO NACIONAL DE SALUD PUBLICA                                                                           3264\n",
       "INSTITUTO NACIONAL DE NEUROLOGIA Y NEUROCIRUGIA MANUEL VELASCO SUAREZ                                         3155\n",
       "_GOBIERNO DEL ESTADO DE HIDALGO                                                                               3140\n",
       "                                                                                                             ...  \n",
       "FIDEICOMISO DE LOS SISTEMAS NORMALIZADO DE COMPETENCIA LABORAL Y DE CERTIFICACION DE COMPETENCIA LABORAL       219\n",
       "UNIVERSIDAD PEDAGOGICA NACIONAL                                                                                213\n",
       "CENTRO DE INVESTIGACION Y DESARROLLO TECNOLOGICO EN ELECTROQUIMICA, SC                                         212\n",
       "NOTIMEX, AGENCIA DE NOTICIAS DEL ESTADO MEXICANO                                                               211\n",
       "ADMINISTRACION PORTUARIA INTEGRAL DE ENSENADA, SA DE CV                                                        208\n",
       "INSTITUTO NACIONAL DEL EMPRENDEDOR                                                                             206\n",
       "CONSEJERIA JURIDICA DEL EJECUTIVO FEDERAL                                                                      198\n",
       "_GOBIERNO DEL ESTADO DE DISTRITO FEDERAL                                                                       198\n",
       "ADMINISTRACION PORTUARIA INTEGRAL DE TUXPAN, SA DE CV                                                          191\n",
       "ADMINISTRACION PORTUARIA INTEGRAL DE MAZATLAN, SA DE CV                                                        182\n",
       "CENTRO NACIONAL PARA LA PREVENCION Y EL CONTROL DEL VIH/SIDA                                                   176\n",
       "PMI COMERCIO INTERNACIONAL, SA DE CV                                                                           161\n",
       "COMISION NACIONAL DE ARBITRAJE MEDICO                                                                          152\n",
       "CENTRO REGIONAL DE ALTA ESPECIALIDAD DE CHIAPAS                                                                147\n",
       "ADMINISTRACION PORTUARIA INTEGRAL DE PUERTO MADERO, SA DE CV                                                   147\n",
       "SERVICIOS DE ATENCION PSIQUIATRICA                                                                             140\n",
       "ADMINISTRACION PORTUARIA INTEGRAL DE TAMPICO, SA DE CV                                                         138\n",
       "ADMINISTRACION PORTUARIA INTEGRAL DE SALINA CRUZ, SA DE CV                                                     137\n",
       "CIATEQ, AC CENTRO DE TECNOLOGIA AVANZADA                                                                       134\n",
       "CENTRO NACIONAL DE CONTROL DEL GAS NATURAL                                                                     133\n",
       "COMISION NACIONAL DE LOS SALARIOS MINIMOS                                                                      129\n",
       "CENTRO NACIONAL DE EXCELENCIA TECNOLOGICA EN SALUD                                                             128\n",
       "_GOBIERNO MUNICIPAL DEL ESTADO DE DISTRITO FEDERAL                                                             124\n",
       "INSTITUTO POLITECNICO NACIONAL                                                                                 115\n",
       "CENTRO DE INVESTIGACION EN MATERIALES AVANZADOS, SC                                                            113\n",
       "FONATUR OPERADORA PORTUARIA, SA DE CV                                                                          113\n",
       "SERVICIO NACIONAL DE INSPECCION Y CERTIFICACION DE SEMILLAS                                                    112\n",
       "ADMINISTRACION PORTUARIA INTEGRAL DE DOS BOCAS, SA DE CV                                                       111\n",
       "INSTITUTO NACIONAL PARA EL DESARROLLO DE CAPACIDADES DEL SECTOR RURAL, AC                                      105\n",
       "FIDEICOMISO DE FORMACION Y CAPACITACION PARA EL PERSONAL DE LA MARINA MERCANTE NACIONAL                        102\n",
       "CENTRO NACIONAL DE EQUIDAD DE GENERO Y SALUD REPRODUCTIVA                                                      101\n",
       "AGENCIA NACIONAL DE SEGURIDAD INDUSTRIAL Y DE PROTECCION AL MEDIO AMBIENTE DEL SECTOR HIDROCARBUROS             97\n",
       "EL COLEGIO DE SAN LUIS, AC                                                                                      93\n",
       "FIDEICOMISO FONDO NACIONAL DE FOMENTO EJIDAL                                                                    91\n",
       "HOSPITAL REGIONAL DE ALTA ESPECIALIDAD DE OAXACA                                                                91\n",
       "CENTRO NACIONAL DE LA TRANSFUSION SANGUINEA                                                                     90\n",
       "_PODER JUDICIAL                                                                                                 89\n",
       "COMITE NACIONAL PARA EL DESARROLLO SUSTENTABLE DE LA CANA DE AZUCAR                                             89\n",
       "_GOBIERNO MUNICIPAL DEL ESTADO DE BAJA CALIFORNIA SUR                                                           70\n",
       "COMISION NACIONAL DE HIDROCARBUROS                                                                              60\n",
       "CENTRO DE INGENIERIA Y DESARROLLO INDUSTRIAL                                                                    60\n",
       "HOSPITAL REGIONAL DE ALTA ESPECIALIDAD DEL BAJIO                                                                55\n",
       "SEGUROS DE CREDITO A LA VIVIENDA SHF, SA DE CV                                                                  32\n",
       "SERVICIOS AEROPORTUARIOS DE LA CIUDAD DE MEXICO, SA DE CV                                                       29\n",
       "AGENCIA ESPACIAL MEXICANA                                                                                       23\n",
       "CONSEJO NACIONAL PARA EL DESARROLLO Y LA INCLUSION DE LAS PERSONAS CON DISCAPACIDAD                             22\n",
       "COMISION FEDERAL DE MEJORA REGULATORIA                                                                          22\n",
       "TECNOLOGICO NACIONAL DE MEXICO                                                                                  21\n",
       "COORDINACION GENERAL @PRENDEMX                                                                                  17\n",
       "COMISION PARA LA REGULARIZACION DE LA TENENCIA DE LA TIERRA                                                     12\n",
       "Name: DEPENDENCIA, Length: 330, dtype: int64"
      ]
     },
     "execution_count": 10,
     "metadata": {},
     "output_type": "execute_result"
    }
   ],
   "source": [
    "df.DEPENDENCIA.str.replace('.', '').str.strip().value_counts()"
   ]
  },
  {
   "cell_type": "code",
   "execution_count": 9,
   "metadata": {
    "ExecuteTime": {
     "end_time": "2017-09-18T15:51:10.899196Z",
     "start_time": "2017-09-18T15:51:10.698835Z"
    }
   },
   "outputs": [
    {
     "data": {
      "text/plain": [
       "COMISION FEDERAL DE ELECTRICIDAD                                                                            143275\n",
       "INSTITUTO MEXICANO DEL SEGURO SOCIAL                                                                        110415\n",
       "DICONSA, S.A. DE C.V.                                                                                        42536\n",
       "INSTITUTO DE SEGURIDAD Y SERVICIOS SOCIALES DE LOS TRABAJADORES DEL ESTADO                                   40301\n",
       "SECRETARIA DE COMUNICACIONES Y TRANSPORTES                                                                   27680\n",
       "PETROLEOS MEXICANOS (CORPORATIVO)                                                                            17036\n",
       "COMISION NACIONAL DEL AGUA                                                                                   14233\n",
       "CENTRO DE INVESTIGACION Y DE ESTUDIOS AVANZADOS DEL INSTITUTO POLITECNICO NACIONAL                            9647\n",
       "SECRETARIA DE EDUCACION PUBLICA                                                                               7709\n",
       "SECRETARIA DE LA DEFENSA NACIONAL                                                                             7680\n",
       "INSTITUTO NACIONAL DE BELLAS ARTES Y LITERATURA                                                               7649\n",
       "INSTITUTO NACIONAL DE INVESTIGACIONES FORESTALES, AGRICOLAS Y PECUARIAS                                       7569\n",
       "_GOBIERNO DEL ESTADO DE VERACRUZ DE IGNACIO DE LA LLAVE                                                       7518\n",
       "SECRETARIA DE AGRICULTURA, GANADERIA, DESARROLLO RURAL, PESCA Y ALIMENTACION                                  7471\n",
       "SECRETARIA DE DESARROLLO AGRARIO, TERRITORIAL Y URBANO                                                        7238\n",
       "HOSPITAL JUAREZ DE MEXICO                                                                                     7158\n",
       "SERVICIO DE ADMINISTRACION TRIBUTARIA                                                                         6982\n",
       "SECRETARIA DE MARINA                                                                                          6913\n",
       "LICONSA, S.A. DE C.V.                                                                                         6723\n",
       "INSTITUTO DE ADMINISTRACION Y AVALUOS DE BIENES NACIONALES                                                    6539\n",
       "IMPRESORA Y ENCUADERNADORA PROGRESO, S.A. DE C.V.                                                             6423\n",
       "CAMINOS Y PUENTES FEDERALES DE INGRESOS Y SERVICIOS CONEXOS                                                   6104\n",
       "_GOBIERNO DEL ESTADO DE AGUASCALIENTES                                                                        6088\n",
       "COLEGIO DE POSTGRADUADOS                                                                                      5609\n",
       "AEROPUERTOS Y SERVICIOS AUXILIARES                                                                            5592\n",
       "COMISION NACIONAL FORESTAL                                                                                    5496\n",
       "_GOBIERNO MUNICIPAL DEL ESTADO DE PUEBLA                                                                      5139\n",
       "AGENCIA DE SERVICIOS A LA COMERCIALIZACION Y DESARROLLO DE MERCADOS AGROPECUARIOS                             5084\n",
       "BANCO NACIONAL DEL EJERCITO, FUERZA AEREA Y ARMADA, S.N.C.                                                    4873\n",
       "CENTRO DE INVESTIGACIONES BIOLOGICAS DEL NOROESTE, S.C.                                                       4558\n",
       "INSTITUTO MEXICANO DEL PETROLEO                                                                               4539\n",
       "SERVICIO NACIONAL DE SANIDAD, INOCUIDAD Y CALIDAD AGROALIMENTARIA                                             4494\n",
       "HOSPITAL INFANTIL DE MEXICO FEDERICO GOMEZ                                                                    4480\n",
       "INSTITUTO NACIONAL DE CANCEROLOGIA                                                                            4371\n",
       "HOSPITAL GENERAL DE MEXICO                                                                                    4360\n",
       "INSTITUTO NACIONAL DE LA INFRAESTRUCTURA FISICA EDUCATIVA                                                     4297\n",
       "INSTITUTO NACIONAL DE ELECTRICIDAD Y ENERGIAS LIMPIAS                                                         3942\n",
       "FONATUR MANTENIMIENTO TURISTICO, S.A. DE C.V.                                                                 3915\n",
       "_GOBIERNO DEL ESTADO DE SONORA                                                                                3752\n",
       "SECRETARIA DE LA FUNCION PUBLICA                                                                              3752\n",
       "_GOBIERNO DEL ESTADO DE SINALOA                                                                               3751\n",
       "_GOBIERNO DEL ESTADO DE PUEBLA                                                                                3717\n",
       "_GOBIERNO DEL ESTADO DE OAXACA                                                                                3613\n",
       "_GOBIERNO MUNICIPAL DEL ESTADO DE GUANAJUATO                                                                  3484\n",
       "_GOBIERNO MUNICIPAL DEL ESTADO DE MEXICO                                                                      3427\n",
       "ADMINISTRACION PORTUARIA INTEGRAL DE VERACRUZ, S.A. DE C.V.                                                   3389\n",
       "INSTITUTO MEXICANO DE TECNOLOGIA DEL AGUA                                                                     3313\n",
       "INSTITUTO NACIONAL DE SALUD PUBLICA                                                                           3264\n",
       "INSTITUTO NACIONAL DE NEUROLOGIA Y NEUROCIRUGIA MANUEL VELASCO SUAREZ                                         3155\n",
       "_GOBIERNO DEL ESTADO DE HIDALGO                                                                               3140\n",
       "                                                                                                             ...  \n",
       "FIDEICOMISO DE LOS SISTEMAS NORMALIZADO DE COMPETENCIA LABORAL Y DE CERTIFICACION DE COMPETENCIA LABORAL       219\n",
       "UNIVERSIDAD PEDAGOGICA NACIONAL                                                                                213\n",
       "CENTRO DE INVESTIGACION Y DESARROLLO TECNOLOGICO EN ELECTROQUIMICA, S.C.                                       212\n",
       "NOTIMEX, AGENCIA DE NOTICIAS DEL ESTADO MEXICANO                                                               211\n",
       "ADMINISTRACION PORTUARIA INTEGRAL DE ENSENADA, S.A. DE C.V.                                                    208\n",
       "INSTITUTO NACIONAL DEL EMPRENDEDOR                                                                             206\n",
       "_GOBIERNO DEL ESTADO DE DISTRITO FEDERAL                                                                       198\n",
       "CONSEJERIA JURIDICA DEL EJECUTIVO FEDERAL                                                                      198\n",
       "ADMINISTRACION PORTUARIA INTEGRAL DE TUXPAN, S.A. DE C.V.                                                      191\n",
       "ADMINISTRACION PORTUARIA INTEGRAL DE MAZATLAN, S.A. DE C.V.                                                    182\n",
       "CENTRO NACIONAL PARA LA PREVENCION Y EL CONTROL DEL VIH/SIDA                                                   176\n",
       "P.M.I. COMERCIO INTERNACIONAL, S.A. DE C.V.                                                                    161\n",
       "COMISION NACIONAL DE ARBITRAJE MEDICO                                                                          152\n",
       "ADMINISTRACION PORTUARIA INTEGRAL DE PUERTO MADERO, S.A. DE C.V.                                               147\n",
       "CENTRO REGIONAL DE ALTA ESPECIALIDAD DE CHIAPAS                                                                147\n",
       "SERVICIOS DE ATENCION PSIQUIATRICA                                                                             140\n",
       "ADMINISTRACION PORTUARIA INTEGRAL DE TAMPICO, S.A. DE C.V.                                                     138\n",
       "ADMINISTRACION PORTUARIA INTEGRAL DE SALINA CRUZ, S.A. DE C.V.                                                 137\n",
       "CIATEQ, A.C. CENTRO DE TECNOLOGIA AVANZADA                                                                     134\n",
       "CENTRO NACIONAL DE CONTROL DEL GAS NATURAL                                                                     133\n",
       "COMISION NACIONAL DE LOS SALARIOS MINIMOS                                                                      129\n",
       "CENTRO NACIONAL DE EXCELENCIA TECNOLOGICA EN SALUD                                                             128\n",
       "_GOBIERNO MUNICIPAL DEL ESTADO DE DISTRITO FEDERAL                                                             124\n",
       "INSTITUTO POLITECNICO NACIONAL                                                                                 115\n",
       "FONATUR OPERADORA PORTUARIA, S.A. DE C.V.                                                                      113\n",
       "CENTRO DE INVESTIGACION EN MATERIALES AVANZADOS, S.C.                                                          113\n",
       "SERVICIO NACIONAL DE INSPECCION Y CERTIFICACION DE SEMILLAS                                                    112\n",
       "ADMINISTRACION PORTUARIA INTEGRAL DE DOS BOCAS, S.A. DE C.V.                                                   111\n",
       "INSTITUTO NACIONAL PARA EL DESARROLLO DE CAPACIDADES DEL SECTOR RURAL, A.C.                                    105\n",
       "FIDEICOMISO DE FORMACION Y CAPACITACION PARA EL PERSONAL DE LA MARINA MERCANTE NACIONAL                        102\n",
       "CENTRO NACIONAL DE EQUIDAD DE GENERO Y SALUD REPRODUCTIVA                                                      101\n",
       "AGENCIA NACIONAL DE SEGURIDAD INDUSTRIAL Y DE PROTECCION AL MEDIO AMBIENTE DEL SECTOR HIDROCARBUROS             97\n",
       "EL COLEGIO DE SAN LUIS, A.C.                                                                                    93\n",
       "FIDEICOMISO FONDO NACIONAL DE FOMENTO EJIDAL                                                                    91\n",
       "HOSPITAL REGIONAL DE ALTA ESPECIALIDAD DE OAXACA                                                                91\n",
       "CENTRO NACIONAL DE LA TRANSFUSION SANGUINEA                                                                     90\n",
       "COMITE NACIONAL PARA EL DESARROLLO SUSTENTABLE DE LA CANA DE AZUCAR                                             89\n",
       "_PODER JUDICIAL                                                                                                 89\n",
       "_GOBIERNO MUNICIPAL DEL ESTADO DE BAJA CALIFORNIA SUR                                                           70\n",
       "COMISION NACIONAL DE HIDROCARBUROS                                                                              60\n",
       "CENTRO DE INGENIERIA Y DESARROLLO INDUSTRIAL                                                                    60\n",
       "HOSPITAL REGIONAL DE ALTA ESPECIALIDAD DEL BAJIO                                                                55\n",
       "SEGUROS DE CREDITO A LA VIVIENDA SHF, S.A. DE C.V.                                                              32\n",
       "SERVICIOS AEROPORTUARIOS DE LA CIUDAD DE MEXICO, S.A. DE C.V.                                                   29\n",
       "AGENCIA ESPACIAL MEXICANA                                                                                       23\n",
       "CONSEJO NACIONAL PARA EL DESARROLLO Y LA INCLUSION DE LAS PERSONAS CON DISCAPACIDAD                             22\n",
       "COMISION FEDERAL DE MEJORA REGULATORIA                                                                          22\n",
       "TECNOLOGICO NACIONAL DE MEXICO                                                                                  21\n",
       "COORDINACION GENERAL @PRENDE.MX                                                                                 17\n",
       "COMISION PARA LA REGULARIZACION DE LA TENENCIA DE LA TIERRA                                                     12\n",
       "Name: DEPENDENCIA, Length: 330, dtype: int64"
      ]
     },
     "execution_count": 9,
     "metadata": {},
     "output_type": "execute_result"
    }
   ],
   "source": [
    "df.DEPENDENCIA.value_counts()"
   ]
  },
  {
   "cell_type": "code",
   "execution_count": null,
   "metadata": {
    "collapsed": true
   },
   "outputs": [],
   "source": [
    "# files_raw, files_processed = tuple(\n",
    "#     zip(*[(file.as_posix(), (participantes_processed / file.name).as_posix())\n",
    "#           for file in participantes_raw.glob('participantes_*')])\n",
    "# )\n",
    "\n",
    "# df_test = load_data('../data/raw/perdedores/participantes_2010-2011.csv')\n",
    "# df_test = load_data('../data/raw/perdedores/participantes_2014_2015.csv')\n",
    "# df_test = load_data('../data/raw/perdedores/participantes_2016_2017.csv')\n",
    "# df_test.head()\n",
    "\n",
    "# df_participantes = delayed(pd.concat)(dfs, axis=0, ignore_index=True)\n",
    "\n",
    "# df_participantes = df_participantes.compute()"
   ]
  }
 ],
 "metadata": {
  "kernelspec": {
   "display_name": "Python 3",
   "language": "python",
   "name": "python3"
  },
  "language_info": {
   "codemirror_mode": {
    "name": "ipython",
    "version": 3
   },
   "file_extension": ".py",
   "mimetype": "text/x-python",
   "name": "python",
   "nbconvert_exporter": "python",
   "pygments_lexer": "ipython3",
   "version": "3.6.1"
  }
 },
 "nbformat": 4,
 "nbformat_minor": 2
}
